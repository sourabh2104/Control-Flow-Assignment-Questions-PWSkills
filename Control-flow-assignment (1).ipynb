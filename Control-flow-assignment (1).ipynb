{
 "cells": [
  {
   "cell_type": "markdown",
   "id": "cfad9872-0786-4e11-a51d-b164a3ce292a",
   "metadata": {},
   "source": [
    "CONTROL FLOW ASSIGMENT QUESTIONS!!!"
   ]
  },
  {
   "cell_type": "markdown",
   "id": "693001ea-7bb5-42c3-bccc-c2d76892f909",
   "metadata": {},
   "source": [
    "BASIC IF-ELSE STATEMENTS!!\n"
   ]
  },
  {
   "cell_type": "code",
   "execution_count": 1,
   "id": "0adb76be-c7fd-4bbb-bb11-e34cb1a226f9",
   "metadata": {},
   "outputs": [
    {
     "name": "stdin",
     "output_type": "stream",
     "text": [
      "Enter a number:  5\n"
     ]
    },
    {
     "name": "stdout",
     "output_type": "stream",
     "text": [
      "The number is positive.\n"
     ]
    }
   ],
   "source": [
    "# 1. Write a Python program to check if a given number is positive or negative.\n",
    "\n",
    "\n",
    "# Input a number from the user\n",
    "num = float(input(\"Enter a number: \"))\n",
    "\n",
    "# Check if the number is positive, negative, or zero\n",
    "if num > 0:\n",
    "    print(\"The number is positive.\")\n",
    "elif num < 0:\n",
    "    print(\"The number is negative.\")\n",
    "else:\n",
    "    print(\"The number is zero.\")\n"
   ]
  },
  {
   "cell_type": "markdown",
   "id": "6a7035f1-4cc0-4803-a1c9-1b23981124c3",
   "metadata": {},
   "source": [
    "Explanation:\n",
    "\n",
    "We take user input as a floating-point number to handle both integers and decimals.\n",
    "We use conditional statements (if, elif, and else) to check whether the number is positive, negative, or zero."
   ]
  },
  {
   "cell_type": "code",
   "execution_count": 2,
   "id": "ff4b1ddb-f8d1-43ad-85f1-7be32ee62181",
   "metadata": {},
   "outputs": [
    {
     "name": "stdin",
     "output_type": "stream",
     "text": [
      "Enter your age:  21\n"
     ]
    },
    {
     "name": "stdout",
     "output_type": "stream",
     "text": [
      "You are eligible to vote.\n"
     ]
    }
   ],
   "source": [
    "# 2. Create a program that determines if a person is eligible to vote based on their age.\n",
    "\n",
    "\n",
    "# Input the age of the person\n",
    "age = int(input(\"Enter your age: \"))\n",
    "\n",
    "# Check eligibility to vote\n",
    "if age >= 18:\n",
    "    print(\"You are eligible to vote.\")\n",
    "else:\n",
    "    print(\"You are not eligible to vote yet.\")\n"
   ]
  },
  {
   "cell_type": "markdown",
   "id": "ebab8a34-d301-467e-9f45-9faa7ef42f13",
   "metadata": {},
   "source": [
    "Explanation:\n",
    "\n",
    "We take user input for the age as an integer.\n",
    "We use an if statement to check if the age is greater than or equal to 18, which is the legal voting age in many countries."
   ]
  },
  {
   "cell_type": "code",
   "execution_count": 3,
   "id": "511ebe5a-32a1-459b-bf06-7d58f2dd2dda",
   "metadata": {},
   "outputs": [
    {
     "name": "stdin",
     "output_type": "stream",
     "text": [
      "Enter the first number:  2\n",
      "Enter the second number:  3\n"
     ]
    },
    {
     "name": "stdout",
     "output_type": "stream",
     "text": [
      "The maximum number is 3.0\n"
     ]
    }
   ],
   "source": [
    "# 3. Develop a program to find the maximum of two numbers using if-else statements.\n",
    "\n",
    "\n",
    "# Input two numbers\n",
    "num1 = float(input(\"Enter the first number: \"))\n",
    "num2 = float(input(\"Enter the second number: \"))\n",
    "\n",
    "# Find the maximum using conditional statements\n",
    "if num1 > num2:\n",
    "    print(\"The maximum number is\", num1)\n",
    "elif num2 > num1:\n",
    "    print(\"The maximum number is\", num2)\n",
    "else:\n",
    "    print(\"Both numbers are equal.\")\n"
   ]
  },
  {
   "cell_type": "markdown",
   "id": "991c9b50-8214-4da2-8956-25525d44263a",
   "metadata": {},
   "source": [
    "Explanation:\n",
    "\n",
    "We take user input for two numbers.\n",
    "We use conditional statements to compare the two numbers and determine the maximum."
   ]
  },
  {
   "cell_type": "code",
   "execution_count": 4,
   "id": "c9f59b1c-c0b4-42bf-b1f1-0dd27d96f0fc",
   "metadata": {},
   "outputs": [
    {
     "name": "stdin",
     "output_type": "stream",
     "text": [
      "Enter a year:  2002\n"
     ]
    },
    {
     "name": "stdout",
     "output_type": "stream",
     "text": [
      "2002 is not a leap year.\n"
     ]
    }
   ],
   "source": [
    "# 4. Write a Python script to classify a given year as a leap year or not.\n",
    "\n",
    "\n",
    "# Here I take a input from user !!\n",
    "year = int(input(\"Enter a year: \"))\n",
    "\n",
    "# This part of code Check if it's a leap year or not!!\n",
    "if (year % 4 == 0 and year % 100 != 0) or (year % 400 == 0):\n",
    "    print(year, \"is a leap year.\")\n",
    "else:\n",
    "    print(year, \"is not a leap year.\")\n"
   ]
  },
  {
   "cell_type": "markdown",
   "id": "e8b8670b-a1e7-418c-9985-5f60b8b5350c",
   "metadata": {},
   "source": [
    "Explanation:\n",
    "\n",
    "We take user input for a year as an integer.\n",
    "We use conditional statements to check the leap year conditions:\n",
    "A year is a leap year if it's divisible by 4 but not divisible by 100, or if it's divisible by 400."
   ]
  },
  {
   "cell_type": "code",
   "execution_count": 6,
   "id": "c54515ec-b1e9-4088-b6e0-85cceeefb045",
   "metadata": {},
   "outputs": [
    {
     "name": "stdin",
     "output_type": "stream",
     "text": [
      "Enter a character:  a\n"
     ]
    },
    {
     "name": "stdout",
     "output_type": "stream",
     "text": [
      "a is a vowel.\n"
     ]
    }
   ],
   "source": [
    "# 5. Create a program that checks whether a character is a vowel or a consonant.\n",
    "\n",
    "\n",
    "# Input a character from the user\n",
    "char = input(\"Enter a character: \").lower()\n",
    "\n",
    "# Check if it's a vowel or a consonant\n",
    "if char.isalpha() and len(char) == 1:\n",
    "    if char in 'aeiou':\n",
    "        print(char, \"is a vowel.\")\n",
    "    else:\n",
    "        print(char, \"is a consonant.\")\n",
    "else:\n",
    "    print(\"Invalid input. Please enter a single character.\")\n"
   ]
  },
  {
   "cell_type": "markdown",
   "id": "5ea96e6f-4b6e-4752-8431-086f0fdb5df8",
   "metadata": {},
   "source": [
    "Explanation:\n",
    "\n",
    "We take user input for a character and convert it to lowercase to handle both uppercase and lowercase inputs.\n",
    "We check if the input is a single alphabet character and then use conditional statements to determine if it's a vowel or consonant."
   ]
  },
  {
   "cell_type": "code",
   "execution_count": 7,
   "id": "9c20e6f9-6023-49bd-8cc7-3f0ca9ecf3d0",
   "metadata": {},
   "outputs": [
    {
     "name": "stdin",
     "output_type": "stream",
     "text": [
      "Enter a number:  4\n"
     ]
    },
    {
     "name": "stdout",
     "output_type": "stream",
     "text": [
      "4 is even.\n"
     ]
    }
   ],
   "source": [
    "# 6. Implement a program to determine whether a given number is even or odd.\n",
    "\n",
    "\n",
    "# Input a number from the user\n",
    "num = int(input(\"Enter a number: \"))\n",
    "\n",
    "# Check if it's even or odd\n",
    "if num % 2 == 0:\n",
    "    print(num, \"is even.\")\n",
    "else:\n",
    "    print(num, \"is odd.\")\n"
   ]
  },
  {
   "cell_type": "markdown",
   "id": "bf7ab7f3-c20a-4f64-8593-5de1dc773a34",
   "metadata": {},
   "source": [
    "Explanation:\n",
    "\n",
    "We take user input for a number as an integer.\n",
    "We use the modulo operator % to check if the number is divisible by 2 to determine if it's even or odd."
   ]
  },
  {
   "cell_type": "code",
   "execution_count": 8,
   "id": "49cd0f59-f039-43df-afe8-f24f1c5f5ab6",
   "metadata": {},
   "outputs": [
    {
     "name": "stdin",
     "output_type": "stream",
     "text": [
      "Enter a number:  5\n"
     ]
    },
    {
     "name": "stdout",
     "output_type": "stream",
     "text": [
      "The absolute value is 5.0\n"
     ]
    }
   ],
   "source": [
    "# 7. Write a Python function to calculate the absolute value of a number without using the `abs()` function.\n",
    "\n",
    "\n",
    "# Input a number from the user\n",
    "num = float(input(\"Enter a number: \"))\n",
    "\n",
    "# Calculate the absolute value\n",
    "if num < 0:\n",
    "    abs_value = -num\n",
    "else:\n",
    "    abs_value = num\n",
    "\n",
    "print(\"The absolute value is\", abs_value)\n"
   ]
  },
  {
   "cell_type": "markdown",
   "id": "f85877bd-8d72-4969-947d-cd308ff4d12d",
   "metadata": {},
   "source": [
    "Explanation:\n",
    "\n",
    "We take user input for a number.\n",
    "We use a conditional statement to check if the number is negative and, if so, negate it to obtain the absolute value.\n"
   ]
  },
  {
   "cell_type": "code",
   "execution_count": 9,
   "id": "2b9fb961-358c-4015-8f64-7fe251318ae1",
   "metadata": {},
   "outputs": [
    {
     "name": "stdin",
     "output_type": "stream",
     "text": [
      "Enter the first number:  6\n",
      "Enter the second number:  7\n",
      "Enter the third number:  8\n"
     ]
    },
    {
     "name": "stdout",
     "output_type": "stream",
     "text": [
      "The largest number is 8.0\n"
     ]
    }
   ],
   "source": [
    "# 8. Develop a program that determines the largest of three given numbers using if-else statements.\n",
    "\n",
    "\n",
    "# Input three numbers\n",
    "num1 = float(input(\"Enter the first number: \"))\n",
    "num2 = float(input(\"Enter the second number: \"))\n",
    "num3 = float(input(\"Enter the third number: \"))\n",
    "\n",
    "# Find the largest using conditional statements\n",
    "if num1 >= num2 and num1 >= num3:\n",
    "    print(\"The largest number is\", num1)\n",
    "elif num2 >= num1 and num2 >= num3:\n",
    "    print(\"The largest number is\", num2)\n",
    "else:\n",
    "    print(\"The largest number is\", num3)\n"
   ]
  },
  {
   "cell_type": "markdown",
   "id": "71243dbd-849a-441e-8931-da078f41599b",
   "metadata": {},
   "source": [
    "Explanation:\n",
    "\n",
    "We take user input for three numbers.\n",
    "We use conditional statements to compare the three numbers and determine the largest."
   ]
  },
  {
   "cell_type": "code",
   "execution_count": 10,
   "id": "144055f3-3b55-4ab0-aac5-9c1af6e3ac29",
   "metadata": {},
   "outputs": [
    {
     "name": "stdin",
     "output_type": "stream",
     "text": [
      "Enter a string:  kuhgirg\n"
     ]
    },
    {
     "name": "stdout",
     "output_type": "stream",
     "text": [
      "It's not a palindrome.\n"
     ]
    }
   ],
   "source": [
    "# 9. Create a program that checks if a given string is a palindrome.\n",
    "\n",
    "\n",
    "# Input a string from the user\n",
    "string = input(\"Enter a string: \")\n",
    "\n",
    "# Remove spaces and convert to lowercase\n",
    "string = string.replace(\" \", \"\").lower()\n",
    "\n",
    "# Check if it's a palindrome\n",
    "if string == string[::-1]:\n",
    "    print(\"It's a palindrome.\")\n",
    "else:\n",
    "    print(\"It's not a palindrome.\")\n"
   ]
  },
  {
   "cell_type": "markdown",
   "id": "3bb8565c-2a36-486c-bdd6-d824252cd1e8",
   "metadata": {},
   "source": [
    "Explanation:\n",
    "\n",
    "We take user input for a string.\n",
    "We remove spaces and convert the string to lowercase for a case-insensitive check.\n",
    "We use string slicing ([::-1]) to reverse the string and compare it with the original to check for palindromes."
   ]
  },
  {
   "cell_type": "code",
   "execution_count": 11,
   "id": "a72fdee0-ce4f-443f-8406-eb877073400f",
   "metadata": {},
   "outputs": [
    {
     "name": "stdin",
     "output_type": "stream",
     "text": [
      "Enter the student's score:  78\n"
     ]
    },
    {
     "name": "stdout",
     "output_type": "stream",
     "text": [
      "The student's grade is C\n"
     ]
    }
   ],
   "source": [
    "# 10. Write a Python program to calculate the grade based on a student's score.\n",
    "#   give proper comments as well inside the codes and also provide the explanation for each code like a biggner the expalantion must have at least 7 points for each code\n",
    "\n",
    "\n",
    "\n",
    "# Input the student's score\n",
    "score = float(input(\"Enter the student's score: \"))\n",
    "\n",
    "# Determine the grade based on the score\n",
    "if score >= 90:\n",
    "    grade = 'A'\n",
    "elif score >= 80:\n",
    "    grade = 'B'\n",
    "elif score >= 70:\n",
    "    grade = 'C'\n",
    "elif score >= 60:\n",
    "    grade = 'D'\n",
    "else:\n",
    "    grade = 'F'\n",
    "\n",
    "print(\"The student's grade is\", grade)\n"
   ]
  },
  {
   "cell_type": "markdown",
   "id": "90c3ac98-4c7d-4d99-a7ad-b45e5b7f875f",
   "metadata": {},
   "source": [
    "Explanation:\n",
    "\n",
    "We take user input for the student's score as a floating-point number.\n",
    "We use conditional statements to assign a letter grade based on the score range.\n"
   ]
  },
  {
   "cell_type": "markdown",
   "id": "35f16491-8561-481e-aed0-6e7b50efc5de",
   "metadata": {},
   "source": [
    "NESTED IF-ELSE STATEMENTS!!!"
   ]
  },
  {
   "cell_type": "code",
   "execution_count": 13,
   "id": "aa767784-937c-480c-a334-c8eee4bca2c0",
   "metadata": {},
   "outputs": [
    {
     "name": "stdin",
     "output_type": "stream",
     "text": [
      "Enter the first number:  1\n",
      "Enter the second number:  2\n",
      "Enter the third number:  3\n"
     ]
    },
    {
     "name": "stdout",
     "output_type": "stream",
     "text": [
      "The largest number is 3.0\n"
     ]
    }
   ],
   "source": [
    "#  11. Write a program to find the largest among three numbers using nested if-else statements.\n",
    "\n",
    "\n",
    "# Input three numbers\n",
    "num1 = float(input(\"Enter the first number: \"))\n",
    "num2 = float(input(\"Enter the second number: \"))\n",
    "num3 = float(input(\"Enter the third number: \"))\n",
    "\n",
    "# Find the largest using nested if-else statements\n",
    "if num1 >= num2:\n",
    "    if num1 >= num3:\n",
    "        largest = num1\n",
    "    else:\n",
    "        largest = num3\n",
    "else:\n",
    "    if num2 >= num3:\n",
    "        largest = num2\n",
    "    else:\n",
    "        largest = num3\n",
    "\n",
    "print(\"The largest number is\", largest)\n"
   ]
  },
  {
   "cell_type": "markdown",
   "id": "a3a78647-a541-49b2-966d-8a66e0692345",
   "metadata": {},
   "source": [
    "Explanation:\n",
    "\n",
    "This program uses nested if-else statements to find the largest of three numbers by comparing them pairwise.\n"
   ]
  },
  {
   "cell_type": "code",
   "execution_count": 14,
   "id": "5c9ec2b0-b32b-45b4-a0f4-8a8c97a1682f",
   "metadata": {},
   "outputs": [
    {
     "name": "stdin",
     "output_type": "stream",
     "text": [
      "Enter the length of the first side:  5\n",
      "Enter the length of the second side:  8\n",
      "Enter the length of the third side:  12\n"
     ]
    },
    {
     "name": "stdout",
     "output_type": "stream",
     "text": [
      "The triangle is scalene\n"
     ]
    }
   ],
   "source": [
    "# 12. Implement a program to determine if a triangle is equilateral, isosceles, or scalene.\n",
    "\n",
    "\n",
    "# Input three side lengths of a triangle\n",
    "side1 = float(input(\"Enter the length of the first side: \"))\n",
    "side2 = float(input(\"Enter the length of the second side: \"))\n",
    "side3 = float(input(\"Enter the length of the third side: \"))\n",
    "\n",
    "# Determine the type of triangle\n",
    "if side1 == side2 == side3:\n",
    "    triangle_type = \"equilateral\"\n",
    "elif side1 == side2 or side2 == side3 or side1 == side3:\n",
    "    triangle_type = \"isosceles\"\n",
    "else:\n",
    "    triangle_type = \"scalene\"\n",
    "\n",
    "print(\"The triangle is\", triangle_type)\n"
   ]
  },
  {
   "cell_type": "markdown",
   "id": "8718388c-2958-412d-98c0-3b8d1e670ff8",
   "metadata": {},
   "source": [
    "Explanation:\n",
    "\n",
    "This program determines the type of triangle (equilateral, isosceles, or scalene) based on the lengths of its sides.\n"
   ]
  },
  {
   "cell_type": "code",
   "execution_count": 15,
   "id": "e2b66a3c-40bf-4332-8381-3933abc46445",
   "metadata": {},
   "outputs": [
    {
     "name": "stdin",
     "output_type": "stream",
     "text": [
      "Enter a year:  2009\n"
     ]
    },
    {
     "name": "stdout",
     "output_type": "stream",
     "text": [
      "2009 is not a leap year.\n",
      "2009 is not a century year.\n"
     ]
    }
   ],
   "source": [
    "# 13. Develop a program that checks if a year is a leap year and also if it is a century year.\n",
    "\n",
    "\n",
    "# Input a year from the user\n",
    "year = int(input(\"Enter a year: \"))\n",
    "\n",
    "# Check if it's a leap year and a century year\n",
    "if (year % 4 == 0 and year % 100 != 0) or (year % 400 == 0):\n",
    "    leap_year = True\n",
    "else:\n",
    "    leap_year = False\n",
    "\n",
    "if year % 100 == 0:\n",
    "    century_year = True\n",
    "else:\n",
    "    century_year = False\n",
    "\n",
    "if leap_year:\n",
    "    print(year, \"is a leap year.\")\n",
    "else:\n",
    "    print(year, \"is not a leap year.\")\n",
    "\n",
    "if century_year:\n",
    "    print(year, \"is a century year.\")\n",
    "else:\n",
    "    print(year, \"is not a century year.\")\n"
   ]
  },
  {
   "cell_type": "markdown",
   "id": "f1ea75ab-9001-46a2-8c24-dd9c9c3c9d4a",
   "metadata": {},
   "source": [
    "Explanation:\n",
    "\n",
    "This program checks if a year is a leap year based on the leap year conditions and also checks if it's a century year (divisible by 100)."
   ]
  },
  {
   "cell_type": "code",
   "execution_count": 16,
   "id": "01acd4eb-beae-4857-aa52-d411d1f3b886",
   "metadata": {},
   "outputs": [
    {
     "name": "stdin",
     "output_type": "stream",
     "text": [
      "Enter a number:  45\n"
     ]
    },
    {
     "name": "stdout",
     "output_type": "stream",
     "text": [
      "The number is positive.\n"
     ]
    }
   ],
   "source": [
    "# 14. Write a Python script to determine if a number is positive, negative, or zero\n",
    "\n",
    "\n",
    "# Input a number from the user\n",
    "num = float(input(\"Enter a number: \"))\n",
    "\n",
    "# Determine if it's positive, negative, or zero\n",
    "if num > 0:\n",
    "    print(\"The number is positive.\")\n",
    "elif num < 0:\n",
    "    print(\"The number is negative.\")\n",
    "else:\n",
    "    print(\"The number is zero.\")\n"
   ]
  },
  {
   "cell_type": "markdown",
   "id": "54fe07b8-88d6-42e9-8da1-76e1580fbab5",
   "metadata": {},
   "source": [
    "Explanation:\n",
    "\n",
    "This program checks whether a given number is positive, negative, or zero using if-else statements."
   ]
  },
  {
   "cell_type": "code",
   "execution_count": 17,
   "id": "8c10472a-9111-4d99-9af6-834bef491aa0",
   "metadata": {},
   "outputs": [
    {
     "name": "stdin",
     "output_type": "stream",
     "text": [
      "Enter your age:  24\n"
     ]
    },
    {
     "name": "stdout",
     "output_type": "stream",
     "text": [
      "You are not a teenager.\n"
     ]
    }
   ],
   "source": [
    "# 15. Create a program to check if a person is a teenager (between 13 and 19 years old).\n",
    "\n",
    "\n",
    "# Input the person's age\n",
    "age = int(input(\"Enter your age: \"))\n",
    "\n",
    "# Check if the person is a teenager\n",
    "if 13 <= age <= 19:\n",
    "    print(\"You are a teenager.\")\n",
    "else:\n",
    "    print(\"You are not a teenager.\")\n"
   ]
  },
  {
   "cell_type": "markdown",
   "id": "0c1becd7-e41d-4694-aed4-ef43585435f6",
   "metadata": {},
   "source": [
    "Explanation:\n",
    "\n",
    "This program determines if a person is a teenager by checking if their age falls within the range 13 to 19 (inclusive)."
   ]
  },
  {
   "cell_type": "code",
   "execution_count": 18,
   "id": "8ae38be7-645f-4214-8429-04683f525a73",
   "metadata": {},
   "outputs": [
    {
     "name": "stdin",
     "output_type": "stream",
     "text": [
      "Enter the angle in degrees:  56\n"
     ]
    },
    {
     "name": "stdout",
     "output_type": "stream",
     "text": [
      "The angle is acute.\n"
     ]
    }
   ],
   "source": [
    "# 16. Develop a program that determines the type of angle based on its measure (acute, obtuse, or right).\n",
    "\n",
    "\n",
    "# Input angle in degrees\n",
    "angle = float(input(\"Enter the angle in degrees: \"))\n",
    "\n",
    "# Check the type of angle\n",
    "if angle < 90:\n",
    "    print(\"The angle is acute.\")\n",
    "elif angle == 90:\n",
    "    print(\"The angle is right.\")\n",
    "else:\n",
    "    print(\"The angle is obtuse.\")\n"
   ]
  },
  {
   "cell_type": "markdown",
   "id": "47c12cf4-ad70-419f-a4af-2df1ba4931e2",
   "metadata": {},
   "source": [
    "EXPLANATION:-\n",
    "\n",
    "In this program, we want to determine whether an angle is acute, obtuse, or right based on its measure in degrees.\n",
    "\n",
    "We start by taking user input for the angle in degrees and store it in the variable angle.\n",
    "\n",
    "We then use a series of if, elif, and else statements to check the type of angle:\n",
    "\n",
    "If the angle is less than 90 degrees, it's considered acute.\n",
    "If the angle is exactly 90 degrees, it's a right angle.\n",
    "If the angle is greater than 90 degrees, it's obtuse.\n",
    "We print the result based on the conditions checked."
   ]
  },
  {
   "cell_type": "code",
   "execution_count": 19,
   "id": "5b4c1e0d-7c5c-4676-8336-1a5512ce0152",
   "metadata": {},
   "outputs": [
    {
     "name": "stdin",
     "output_type": "stream",
     "text": [
      "Enter the coefficient a:  68\n",
      "Enter the coefficient b:  75\n",
      "Enter the coefficient c:  5\n"
     ]
    },
    {
     "name": "stdout",
     "output_type": "stream",
     "text": [
      "The roots are real and distinct: -0.07127229802189132 and -1.0316688784486967\n"
     ]
    }
   ],
   "source": [
    "# 17. Write a Python program to calculate the roots of a quadratic equation.\n",
    "\n",
    "\n",
    "import math\n",
    "\n",
    "# Input coefficients of the quadratic equation\n",
    "a = float(input(\"Enter the coefficient a: \"))\n",
    "b = float(input(\"Enter the coefficient b: \"))\n",
    "c = float(input(\"Enter the coefficient c: \"))\n",
    "\n",
    "# Calculate the discriminant\n",
    "discriminant = b**2 - 4*a*c\n",
    "\n",
    "# Check the nature of roots\n",
    "if discriminant > 0:\n",
    "    root1 = (-b + math.sqrt(discriminant)) / (2*a)\n",
    "    root2 = (-b - math.sqrt(discriminant)) / (2*a)\n",
    "    print(f\"The roots are real and distinct: {root1} and {root2}\")\n",
    "elif discriminant == 0:\n",
    "    root1 = -b / (2*a)\n",
    "    print(f\"The root is real and equal: {root1}\")\n",
    "else:\n",
    "    realPart = -b / (2*a)\n",
    "    imaginaryPart = math.sqrt(-discriminant) / (2*a)\n",
    "    print(f\"The roots are complex: {realPart} + {imaginaryPart}i and {realPart} - {imaginaryPart}i\")\n"
   ]
  },
  {
   "cell_type": "markdown",
   "id": "82fadc74-cd6b-4450-a904-4474080c1a22",
   "metadata": {},
   "source": [
    "EXPLANATION:-\n",
    "\n",
    "In this program, we calculate the roots of a quadratic equation of the form ax^2 + bx + c = 0.\n",
    "\n",
    "We take user input for the coefficients a, b, and c of the quadratic equation.\n",
    "\n",
    "We calculate the discriminant (the value under the square root in the quadratic formula) using the formula discriminant = b^2 - 4ac.\n",
    "\n",
    "We use if statements to determine the nature of the roots based on the discriminant:\n",
    "\n",
    "If the discriminant is greater than 0, there are two real and distinct roots.\n",
    "If the discriminant is equal to 0, there is one real and equal root.\n",
    "If the discriminant is less than 0, there are two complex roots.\n",
    "We calculate and print the roots based on the nature of the roots."
   ]
  },
  {
   "cell_type": "code",
   "execution_count": 22,
   "id": "2a2b3112-9c35-4539-a9c6-54e274aedf33",
   "metadata": {},
   "outputs": [
    {
     "name": "stdin",
     "output_type": "stream",
     "text": [
      "Enter a number (1 for Monday, 2 for Tuesday, etc.):  3\n"
     ]
    },
    {
     "name": "stdout",
     "output_type": "stream",
     "text": [
      "The day of the week is Wednesday.\n"
     ]
    }
   ],
   "source": [
    "# 18. Implement a program to determine the day of the week based on a user-provided number (1 for Monday, 2\n",
    "# for Tuesday, etc.).\n",
    "\n",
    "\n",
    "# Input a number (1 for Monday, 2 for Tuesday, etc.)\n",
    "day_number = int(input(\"Enter a number (1 for Monday, 2 for Tuesday, etc.): \"))\n",
    "\n",
    "# Determine the day of the week\n",
    "days_of_week = [\"Monday\", \"Tuesday\", \"Wednesday\", \"Thursday\", \"Friday\", \"Saturday\", \"Sunday\"]\n",
    "\n",
    "if 1 <= day_number <= 7:\n",
    "    day_name = days_of_week[day_number - 1]\n",
    "    print(f\"The day of the week is {day_name}.\")\n",
    "else:\n",
    "    print(\"Invalid input. Please enter a number between 1 and 7.\")\n"
   ]
  },
  {
   "cell_type": "markdown",
   "id": "29345da9-69a4-483c-ac3b-98e2dba8e34d",
   "metadata": {},
   "source": [
    "EXPLANATION:-\n",
    "\n",
    "In this program, we map a user-provided number (1 for Monday, 2 for Tuesday, etc.) to the corresponding day of the week.\n",
    "\n",
    "We take user input for a number representing a day of the week and store it in the variable day_number.\n",
    "\n",
    "We create a list days_of_week that contains the names of the days of the week in order.\n",
    "\n",
    "We use an if statement to check if the input day_number is within the valid range (1 to 7).\n",
    "\n",
    "If the input is valid, we retrieve the corresponding day name from the days_of_week list and print it.\n",
    "\n",
    "If the input is not within the valid range, we print an error message."
   ]
  },
  {
   "cell_type": "code",
   "execution_count": 23,
   "id": "aba7708f-af4e-49c8-917b-4a5635d9d74f",
   "metadata": {},
   "outputs": [
    {
     "name": "stdin",
     "output_type": "stream",
     "text": [
      "Enter a year:  20045\n"
     ]
    },
    {
     "name": "stdout",
     "output_type": "stream",
     "text": [
      "20045 is not a leap year.\n"
     ]
    }
   ],
   "source": [
    "# 19. Create a program that determines if a year is a leap year and also if it is evenly divisible by 400.\n",
    "\n",
    "\n",
    "# Input a year\n",
    "year = int(input(\"Enter a year: \"))\n",
    "\n",
    "# Check if it's a leap year\n",
    "if (year % 4 == 0 and year % 100 != 0) or (year % 400 == 0):\n",
    "    print(f\"{year} is a leap year.\")\n",
    "else:\n",
    "    print(f\"{year} is not a leap year.\")\n"
   ]
  },
  {
   "cell_type": "markdown",
   "id": "b205c743-595a-484d-b863-3906ad033505",
   "metadata": {},
   "source": [
    "EXPLANATION:-\n",
    "\n",
    "In this program, we determine whether a year is a leap year based on two conditions: it should be divisible by 4, and if it's divisible by 100, it should also be divisible by 400.\n",
    "\n",
    "We take user input for a year and store it in the variable year.\n",
    "\n",
    "We use if statements to check the conditions for leap years:\n",
    "\n",
    "If the year is divisible by 4 and not divisible by 100, it's a leap year.\n",
    "If the year is divisible by 400, it's a leap year.\n",
    "We print the result based on the conditions checked."
   ]
  },
  {
   "cell_type": "code",
   "execution_count": 24,
   "id": "895582db-34e2-4d15-9d2a-eab814bf05da",
   "metadata": {},
   "outputs": [
    {
     "name": "stdin",
     "output_type": "stream",
     "text": [
      "Enter a number:  34\n"
     ]
    },
    {
     "name": "stdout",
     "output_type": "stream",
     "text": [
      "34 is not a prime number.\n"
     ]
    }
   ],
   "source": [
    "# 20. Develop a program that checks if a given number is prime or not using nested if-else statements. give proper comments with detail expalantion for each\n",
    "\n",
    "\n",
    "# Input a number\n",
    "num = int(input(\"Enter a number: \"))\n",
    "\n",
    "# Check if it's a prime number\n",
    "if num > 1:\n",
    "    for i in range(2, int(num/2) + 1):\n",
    "        if (num % i) == 0:\n",
    "            print(f\"{num} is not a prime number.\")\n",
    "            break\n",
    "    else:\n",
    "        print(f\"{num} is a prime number.\")\n",
    "else:\n",
    "    print(f\"{num} is not a prime number.\")\n"
   ]
  },
  {
   "cell_type": "markdown",
   "id": "9a7934ba-726a-42c7-a078-4c2ae33ab413",
   "metadata": {},
   "source": [
    "EXPLANATION:-\n",
    "\n",
    "In this program, we determine whether a given number is prime or not.\n",
    "\n",
    "We take user input for a number and store it in the variable num.\n",
    "\n",
    "We use a for loop to check for divisibility of num by all numbers from 2 to num/2. This loop iterates through these numbers one by one.\n",
    "\n",
    "Within the loop, we use an if statement to check if num is divisible by the current number being tested (i). If it is divisible, we print that num is not a prime number and break out of the loop.\n",
    "\n",
    "If the loop completes without finding any divisors, we use an else statement to print that num is a prime number.\n",
    "\n",
    "If num is less than or equal to 1, we directly print that it's not a prime number.\n",
    "\n",
    "These programs should help you understand how to perform various calculations and make decisions based on user input in Python.\n",
    "\n",
    "\n",
    "\n",
    "\n"
   ]
  },
  {
   "cell_type": "markdown",
   "id": "595e1200-24a6-4746-be82-fa4c5fb5d82a",
   "metadata": {},
   "source": [
    "ELIF STATEMENTS!!!\n"
   ]
  },
  {
   "cell_type": "code",
   "execution_count": 30,
   "id": "0730f206-ae7b-4a8f-afd3-52199b7cc6af",
   "metadata": {},
   "outputs": [
    {
     "name": "stdin",
     "output_type": "stream",
     "text": [
      "Enter the student's score:  50\n"
     ]
    },
    {
     "name": "stdout",
     "output_type": "stream",
     "text": [
      "The student's grade is: {'F'}\n"
     ]
    }
   ],
   "source": [
    "# 21. Write a Python program to assign grades based on different ranges of scores using elif statements.\n",
    "\n",
    "\n",
    "# Input the student's score\n",
    "score = float(input(\"Enter the student's score: \"))\n",
    "\n",
    "# Use elif statements to assign grades based on the score range\n",
    "if score >= 90:\n",
    "    grade = 'A'\n",
    "elif score >= 80:\n",
    "    grade = 'B'\n",
    "elif score >= 70:\n",
    "    grade = 'C'\n",
    "elif score >= 60:\n",
    "    grade = 'D'\n",
    "else:\n",
    "    grade = 'F'\n",
    "\n",
    "# Display the assigned grade\n",
    "print(\"The student's grade is:\", {grade})\n"
   ]
  },
  {
   "cell_type": "markdown",
   "id": "3b3c9264-7b47-4623-8942-bdbade71317f",
   "metadata": {},
   "source": [
    "EXPLANATION:-\n",
    "\n",
    "In this program, we assign grades to students based on their scores. The code works as follows:\n",
    "\n",
    "We start by taking input from the user for the student's score using the input() function.\n",
    "\n",
    "The program uses elif statements to check the score against different score ranges. If the score falls within a particular range, a corresponding grade is assigned.\n",
    "\n",
    "The program then displays the assigned grade to the user."
   ]
  },
  {
   "cell_type": "code",
   "execution_count": 31,
   "id": "52405737-6489-4250-b654-61c81bab8415",
   "metadata": {},
   "outputs": [
    {
     "name": "stdin",
     "output_type": "stream",
     "text": [
      "Enter the first angle:  45\n",
      "Enter the second angle:  76\n",
      "Enter the third angle:  89\n"
     ]
    },
    {
     "name": "stdout",
     "output_type": "stream",
     "text": [
      "The triangle is Not a valid triangle\n"
     ]
    }
   ],
   "source": [
    "# 22. Implement a program to determine the type of a triangle based on its angles.\n",
    "\n",
    "\n",
    "# Input angles of the triangle\n",
    "angle1 = int(input(\"Enter the first angle: \"))\n",
    "angle2 = int(input(\"Enter the second angle: \"))\n",
    "angle3 = int(input(\"Enter the third angle: \"))\n",
    "\n",
    "# Check and classify the type of triangle\n",
    "if angle1 + angle2 + angle3 == 180:\n",
    "    if angle1 == angle2 == angle3:\n",
    "        triangle_type = 'Equilateral'\n",
    "    elif angle1 == angle2 or angle2 == angle3 or angle1 == angle3:\n",
    "        triangle_type = 'Isosceles'\n",
    "    else:\n",
    "        triangle_type = 'Scalene'\n",
    "else:\n",
    "    triangle_type = 'Not a valid triangle'\n",
    "\n",
    "# Display the type of triangle\n",
    "print(f'The triangle is {triangle_type}')\n"
   ]
  },
  {
   "cell_type": "markdown",
   "id": "d8dafe00-2636-435b-9249-3d0b6c5ee851",
   "metadata": {},
   "source": [
    "EXPLANATION:-\n",
    "\n",
    "This program determines the type of triangle (Equilateral, Isosceles, Scalene, or Not a valid triangle) based on the input angles. Here's how it works:\n",
    "\n",
    "We take input from the user for the three angles of the triangle.\n",
    "\n",
    "The program checks if the sum of the angles is equal to 180 degrees, which is a necessary condition for a valid triangle.\n",
    "\n",
    "If the sum of angles is equal to 180, the program further checks if the triangle is Equilateral (all angles are equal), Isosceles (two angles are equal), or Scalene (all angles are different). If the sum of angles is not 180, it's classified as \"Not a valid triangle.\"\n",
    "\n",
    "Finally, the program displays the type of triangle to the user."
   ]
  },
  {
   "cell_type": "code",
   "execution_count": 33,
   "id": "4071c5b3-0d33-45ea-929d-95bb69fafc0a",
   "metadata": {},
   "outputs": [
    {
     "name": "stdin",
     "output_type": "stream",
     "text": [
      "Enter weight (in kg):  70\n",
      "Enter height (in meters):  3.5\n"
     ]
    },
    {
     "name": "stdout",
     "output_type": "stream",
     "text": [
      "The person's BMI category is: Underweight\n"
     ]
    }
   ],
   "source": [
    "# 23. Develop a program to categorize a given person's BMI into underweight, normal, overweight, or obese using\n",
    "# elif statements.\n",
    "\n",
    "\n",
    "# Input person's weight (in kg) and height (in meters)\n",
    "weight = float(input(\"Enter weight (in kg): \"))\n",
    "height = float(input(\"Enter height (in meters): \"))\n",
    "\n",
    "# Calculate BMI\n",
    "bmi = weight / (height ** 2)\n",
    "\n",
    "# Determine BMI category using elif statements\n",
    "if bmi < 18.5:\n",
    "    category = 'Underweight'\n",
    "elif 18.5 <= bmi < 24.9:\n",
    "    category = 'Normal'\n",
    "elif 25 <= bmi < 29.9:\n",
    "    category = 'Overweight'\n",
    "else:\n",
    "    category = 'Obese'\n",
    "\n",
    "# Display the BMI category\n",
    "print(f\"The person's BMI category is: {category}\")\n"
   ]
  },
  {
   "cell_type": "markdown",
   "id": "811a5af3-f2e2-48fe-ab30-70940c89d905",
   "metadata": {},
   "source": [
    "EXPLANATION:-\n",
    "\n",
    "This program categorizes a person's BMI (Body Mass Index) into Underweight, Normal, Overweight, or Obese. Here's how it works:\n",
    "\n",
    "We take input from the user for their weight in kilograms and height in meters.\n",
    "\n",
    "The program calculates the BMI using the formula: BMI = weight / (height^2).\n",
    "\n",
    "Using elif statements, the program categorizes the BMI based on different ranges. It checks if the BMI is less than 18.5 (Underweight), between 18.5 and 24.9 (Normal), between 25 and 29.9 (Overweight), or greater than or equal to 30 (Obese).\n",
    "\n",
    "The program then displays the BMI category to the user.\n",
    "\n",
    "For example, if the user enters a weight of 70 kg and a height of 1.75 meters, the program will calculate the BMI and output \"The person's BMI category is: Normal\" because the BMI falls in the normal range."
   ]
  },
  {
   "cell_type": "code",
   "execution_count": 34,
   "id": "5af84298-09eb-498c-a0f0-b5c29f8cfecd",
   "metadata": {},
   "outputs": [
    {
     "name": "stdin",
     "output_type": "stream",
     "text": [
      "Enter a number:  46\n"
     ]
    },
    {
     "name": "stdout",
     "output_type": "stream",
     "text": [
      "The number is Positive\n"
     ]
    }
   ],
   "source": [
    "# 24. Create a program that determines whether a given number is positive, negative, or zero using elif\n",
    "# statements.\n",
    "\n",
    "\n",
    "# Input a number\n",
    "number = float(input(\"Enter a number: \"))\n",
    "\n",
    "# Determine if the number is positive, negative, or zero using elif statements\n",
    "if number > 0:\n",
    "    number_type = 'Positive'\n",
    "elif number < 0:\n",
    "    number_type = 'Negative'\n",
    "else:\n",
    "    number_type = 'Zero'\n",
    "\n",
    "# Display the type of number\n",
    "print(f'The number is {number_type}')\n"
   ]
  },
  {
   "cell_type": "markdown",
   "id": "add487d6-3a85-43a6-9a7f-91cf90254361",
   "metadata": {},
   "source": [
    "EXPLANATION:-\n",
    "\n",
    "\n",
    "This program determines whether a given number is Positive, Negative, or Zero. Here's how it works:\n",
    "\n",
    "We take input from the user for a numeric value using the input() function.\n",
    "\n",
    "The program uses elif statements to check the value of the number. If the number is greater than 0, it's classified as \"Positive.\" If it's less than 0, it's classified as \"Negative.\" If it's exactly 0, it's classified as \"Zero.\"\n",
    "\n",
    "The program then displays the type of number to the user.\n",
    "\n",
    "For example, if the user enters the number 5, the program will output \"The number is Positive\" because it's greater than 0."
   ]
  },
  {
   "cell_type": "code",
   "execution_count": 35,
   "id": "b223c3aa-e614-4d89-8450-dd52e4ee2961",
   "metadata": {},
   "outputs": [
    {
     "name": "stdin",
     "output_type": "stream",
     "text": [
      "Enter a character:  s\n"
     ]
    },
    {
     "name": "stdout",
     "output_type": "stream",
     "text": [
      "The character is Lowercase\n"
     ]
    }
   ],
   "source": [
    "# 25. Write a Python script to determine the type of a character (uppercase, lowercase, or special) using elif\n",
    "# statements.\n",
    "\n",
    "\n",
    "# Input a character\n",
    "char = input(\"Enter a character: \")\n",
    "\n",
    "# Determine if the character is uppercase, lowercase, or special using elif statements\n",
    "if char.isalpha():\n",
    "    if char.isupper():\n",
    "        char_type = 'Uppercase'\n",
    "    else:\n",
    "        char_type = 'Lowercase'\n",
    "else:\n",
    "    char_type = 'Special'\n",
    "\n",
    "# Display the type of character\n",
    "print(f'The character is {char_type}')\n"
   ]
  },
  {
   "cell_type": "markdown",
   "id": "4ef899ec-2e46-4ed0-9634-e98e8d39078b",
   "metadata": {},
   "source": [
    "EXPLANATION:- \n",
    "\n",
    "This program determines whether a given character is Uppercase, Lowercase, or Special. Here's how it works:\n",
    "\n",
    "We take input from the user for a single character.\n",
    "\n",
    "The program uses the isalpha() method to check if the character is alphabetic. If it is, the program further checks if it's uppercase or lowercase using isupper(). If it's not alphabetic, it's classified as \"Special.\"\n",
    "\n",
    "The program then displays the type of character to the user.\n",
    "\n",
    "For example, if the user enters the character 'A', the program will output \"The character is Uppercase\" because 'A' is an uppercase letter.\n",
    "\n"
   ]
  },
  {
   "cell_type": "code",
   "execution_count": 40,
   "id": "f5fe7d28-428a-4630-a512-1a956cc4d030",
   "metadata": {},
   "outputs": [
    {
     "name": "stdin",
     "output_type": "stream",
     "text": [
      "Enter the purchase amount:  64675\n"
     ]
    },
    {
     "name": "stdout",
     "output_type": "stream",
     "text": [
      "The discounted price is: $58207.50\n"
     ]
    }
   ],
   "source": [
    "# 26. Implement a program to calculate the discounted price based on different purchase amounts using elif\n",
    "# statements.\n",
    "\n",
    "\n",
    "# Input the purchase amount\n",
    "purchase_amount = float(input(\"Enter the purchase amount: \"))\n",
    "\n",
    "# Calculate the discounted price based on purchase amount using elif statements\n",
    "if purchase_amount >= 1000:\n",
    "    discount = 0.1  # 10% discount for purchases over $1000\n",
    "elif purchase_amount >= 500:\n",
    "    discount = 0.05  # 5% discount for purchases over $500\n",
    "else:\n",
    "    discount = 0  # No discount for purchases below $500\n",
    "\n",
    "# Calculate the final price after applying the discount\n",
    "discounted_price = purchase_amount - (purchase_amount * discount)\n",
    "\n",
    "# Display the discounted price\n",
    "print(f'The discounted price is: ${discounted_price:.2f}')\n"
   ]
  },
  {
   "cell_type": "markdown",
   "id": "827df048-9a6c-4e2d-a947-602bde5cbc2a",
   "metadata": {},
   "source": [
    "EXPLANATION:-\n",
    "\n",
    "This program calculates the discounted price based on different purchase amounts. Here's how it works:\n",
    "\n",
    "We take input from the user for the purchase amount using the input() function.\n",
    "\n",
    "The program uses elif statements to determine the discount rate based on the purchase amount. If the purchase amount is greater than or equal to $1000, a 10% discount is applied. If it's between $500 and $1000, a 5% discount is applied. For purchase amounts below $500, no discount is applied.\n",
    "\n",
    "The program calculates the discounted price by subtracting the discount amount from the original purchase amount.\n",
    "\n",
    "Finally, the program displays the discounted price to the user.\n",
    "\n",
    "For example, if the user enters a purchase amount of $1200, the program will calculate the discounted price as $1080.00 (after applying a 10% discount) and display it to the user."
   ]
  },
  {
   "cell_type": "code",
   "execution_count": 41,
   "id": "b7cec43e-45bf-4c64-877f-2c25b2883687",
   "metadata": {},
   "outputs": [
    {
     "name": "stdin",
     "output_type": "stream",
     "text": [
      "Enter electricity consumption (kWh):  667\n"
     ]
    },
    {
     "name": "stdout",
     "output_type": "stream",
     "text": [
      "The electricity bill is: $133.40\n"
     ]
    }
   ],
   "source": [
    "# 27. Develop a program to calculate the electricity bill based on different consumption slabs using elif\n",
    "# statements.\n",
    "\n",
    "\n",
    "# Input the electricity consumption in kilowatt-hours\n",
    "consumption = float(input(\"Enter electricity consumption (kWh): \"))\n",
    "\n",
    "# Calculate the electricity bill based on consumption slabs using elif statements\n",
    "if consumption <= 100:\n",
    "    rate = 0.1  # $0.10 per kWh for the first 100 kWh\n",
    "elif consumption <= 200:\n",
    "    rate = 0.15  # $0.15 per kWh for consumption between 101 and 200 kWh\n",
    "else:\n",
    "    rate = 0.2  # $0.20 per kWh for consumption above 200 kWh\n",
    "\n",
    "# Calculate the total bill amount\n",
    "bill_amount = consumption * rate\n",
    "\n",
    "# Display the electricity bill\n",
    "print(f'The electricity bill is: ${bill_amount:.2f}')\n"
   ]
  },
  {
   "cell_type": "markdown",
   "id": "5bec44bd-81dd-4eaf-9626-79a5ec51306d",
   "metadata": {},
   "source": [
    "EXPLANATION:-\n",
    "\n",
    "This program calculates the electricity bill based on different consumption slabs. Here's how it works:\n",
    "\n",
    "We take input from the user for the electricity consumption in kilowatt-hours (kWh) using the input() function.\n",
    "\n",
    "The program uses elif statements to determine the electricity rate based on the consumption. It checks which consumption slab the input falls into. For example, if the consumption is up to 100 kWh, the rate is $0.10 per kWh. If it's between 101 and 200 kWh, the rate is $0.15 per kWh, and so on.\n",
    "\n",
    "The program calculates the total bill amount by multiplying the consumption with the rate.\n",
    "\n",
    "Finally, the program displays the electricity bill to the user.\n",
    "\n",
    "For example, if the user enters a consumption of 150 kWh, the program will calculate the electricity bill as $22.50 (150 kWh * $0.15 per kWh) and display it to the user."
   ]
  },
  {
   "cell_type": "code",
   "execution_count": 43,
   "id": "b59b17e4-5723-4d07-9db4-1c8410edf8fc",
   "metadata": {},
   "outputs": [
    {
     "name": "stdin",
     "output_type": "stream",
     "text": [
      "Enter the first angle:  34\n",
      "Enter the second angle:  46\n",
      "Enter the third angle:  76\n",
      "Enter the fourth angle:  987\n",
      "Enter the first side length:  345\n",
      "Enter the second side length:  66\n",
      "Enter the third side length:  64\n",
      "Enter the fourth side length:  35\n"
     ]
    },
    {
     "name": "stdout",
     "output_type": "stream",
     "text": [
      "The quadrilateral is a Not a valid quadrilateral\n"
     ]
    }
   ],
   "source": [
    "# 28. Create a program to determine the type of quadrilateral based on its angles and sides using elif\n",
    "# statements.\n",
    "\n",
    "\n",
    "# Input angles and sides of the quadrilateral\n",
    "angle1 = int(input(\"Enter the first angle: \"))\n",
    "angle2 = int(input(\"Enter the second angle: \"))\n",
    "angle3 = int(input(\"Enter the third angle: \"))\n",
    "angle4 = int(input(\"Enter the fourth angle: \"))\n",
    "side1 = int(input(\"Enter the first side length: \"))\n",
    "side2 = int(input(\"Enter the second side length: \"))\n",
    "side3 = int(input(\"Enter the third side length: \"))\n",
    "side4 = int(input(\"Enter the fourth side length: \"))\n",
    "\n",
    "# Check and classify the type of quadrilateral using elif statements\n",
    "if angle1 + angle2 + angle3 + angle4 == 360:\n",
    "    if side1 == side2 == side3 == side4:\n",
    "        quadrilateral_type = 'Square'\n",
    "    elif (angle1 == angle2 == angle3 == angle4) and (side1 == side3 and side2 == side4):\n",
    "        quadrilateral_type = 'Rectangle'\n",
    "    else:\n",
    "        quadrilateral_type = 'Quadrilateral'\n",
    "else:\n",
    "    quadrilateral_type = 'Not a valid quadrilateral'\n",
    "\n",
    "# Display the type of quadrilateral\n",
    "print(f'The quadrilateral is a {quadrilateral_type}')\n"
   ]
  },
  {
   "cell_type": "markdown",
   "id": "236ca9ed-134b-4ac1-b1a1-be5a7128aa94",
   "metadata": {},
   "source": [
    "EXPLANATION:-\n",
    "\n",
    "\n",
    "This program determines the type of quadrilateral (Square, Rectangle, Quadrilateral, or Not a valid quadrilateral) based on the input angles and sides. Here's how it works:\n",
    "\n",
    "We take input from the user for four angles and four sides of the quadrilateral.\n",
    "\n",
    "The program checks if the sum of the angles is equal to 360 degrees, which is a necessary condition for a valid quadrilateral.\n",
    "\n",
    "If the sum of angles is equal to 360, the program further checks if the quadrilateral is a Square (all angles are equal and all sides are equal), a Rectangle (all angles are equal and opposite sides are equal), or a general Quadrilateral.\n",
    "\n",
    "If the sum of angles is not 360, the program classifies it as \"Not a valid quadrilateral.\"\n",
    "\n",
    "Finally, the program displays the type of quadrilateral to the user.\n",
    "\n",
    "For example, if the user enters angles 90, 90, 90, and 90 along with sides 5, 5, 5, and 5, the program will output \"The quadrilateral is a Square\" because it meets the conditions for a square."
   ]
  },
  {
   "cell_type": "code",
   "execution_count": 45,
   "id": "14085094-4b8e-4c05-ac30-42b7478d5b62",
   "metadata": {},
   "outputs": [
    {
     "name": "stdin",
     "output_type": "stream",
     "text": [
      "Enter a month:  june\n"
     ]
    },
    {
     "name": "stdout",
     "output_type": "stream",
     "text": [
      "It's summer.\n"
     ]
    }
   ],
   "source": [
    "# 29. Write a Python script to determine the season based on a user-provided month using elif statements.\n",
    "\n",
    "\n",
    "# Input a month from the user\n",
    "month = input(\"Enter a month: \")\n",
    "\n",
    "# Convert the input to lowercase to handle different cases (e.g., \"January\" or \"january\")\n",
    "month = month.lower()\n",
    "\n",
    "# Determine the season using elif statements\n",
    "if month in [\"december\", \"january\", \"february\"]:\n",
    "    season = \"winter\"\n",
    "elif month in [\"march\", \"april\", \"may\"]:\n",
    "    season = \"spring\"\n",
    "elif month in [\"june\", \"july\", \"august\"]:\n",
    "    season = \"summer\"\n",
    "elif month in [\"september\", \"october\", \"november\"]:\n",
    "    season = \"autumn\"\n",
    "else:\n",
    "    season = \"not a valid month\"\n",
    "\n",
    "# Display the season to the user\n",
    "if season != \"not a valid month\":\n",
    "    print(f\"It's {season}.\")\n",
    "else:\n",
    "    print(\"Please enter a valid month.\")\n"
   ]
  },
  {
   "cell_type": "markdown",
   "id": "2b3212cf-f34e-452b-a126-b4eb5dc9f4c9",
   "metadata": {},
   "source": [
    "Explanation:\n",
    "\n",
    "We take input from the user for a month using the input() function.\n",
    "To ensure case-insensitivity, we convert the input to lowercase using lower().\n",
    "The program uses elif statements to map the input month to a season. For example, December, January, and February are mapped to \"winter,\" and so on.\n",
    "If the input month is recognized, the program displays the corresponding season. If it's not recognized, it displays a message asking the user to enter a valid month."
   ]
  },
  {
   "cell_type": "code",
   "execution_count": 47,
   "id": "02ff078f-3162-4dd8-96d7-5b30b0ff5231",
   "metadata": {},
   "outputs": [
    {
     "name": "stdin",
     "output_type": "stream",
     "text": [
      "Enter a year:  20067\n",
      "Enter a month:  april\n"
     ]
    },
    {
     "name": "stdout",
     "output_type": "stream",
     "text": [
      "The year is common and April has 30 days.\n"
     ]
    }
   ],
   "source": [
    "# 30. Implement a program to determine the type of a year (leap or common) and month (30 or 31 days) using\n",
    "# elif statements.\n",
    "\n",
    "\n",
    "# Input a year from the user\n",
    "year = int(input(\"Enter a year: \"))\n",
    "\n",
    "# Input a month from the user\n",
    "month = input(\"Enter a month: \")\n",
    "\n",
    "# Convert the input month to lowercase for case-insensitivity\n",
    "month = month.lower()\n",
    "\n",
    "# Determine if the year is leap or common using an if-else statement\n",
    "if (year % 4 == 0 and year % 100 != 0) or (year % 400 == 0):\n",
    "    year_type = \"leap\"\n",
    "else:\n",
    "    year_type = \"common\"\n",
    "\n",
    "# Determine the number of days in the month using elif statements\n",
    "if month in [\"january\", \"march\", \"may\", \"july\", \"august\", \"october\", \"december\"]:\n",
    "    days_in_month = 31\n",
    "elif month in [\"april\", \"june\", \"september\", \"november\"]:\n",
    "    days_in_month = 30\n",
    "elif month == \"february\":\n",
    "    if year_type == \"leap\":\n",
    "        days_in_month = 29\n",
    "    else:\n",
    "        days_in_month = 28\n",
    "else:\n",
    "    days_in_month = \"not a valid month\"\n",
    "\n",
    "# Display the year type and the number of days in the month to the user\n",
    "if days_in_month != \"not a valid month\":\n",
    "    print(f\"The year is {year_type} and {month.capitalize()} has {days_in_month} days.\")\n",
    "else:\n",
    "    print(\"Please enter a valid month.\")\n"
   ]
  },
  {
   "cell_type": "markdown",
   "id": "5a9be332-a069-4297-a8a6-6cc96f4d28cc",
   "metadata": {},
   "source": [
    "Explanation:\n",
    "\n",
    "We take input from the user for both the year and the month.\n",
    "To ensure case-insensitivity, we convert the input month to lowercase using lower().\n",
    "The program first determines if the year is a leap year or a common year based on the rules for leap years (divisible by 4, not divisible by 100 unless divisible by 400).\n",
    "Using elif statements, the program then determines the number of days in the month based on the input month and whether the year is leap or common.\n",
    "The program displays the year type and the number of days in the month to the user. If the input month is not recognized, it displays a message asking the user to enter a valid month."
   ]
  },
  {
   "cell_type": "markdown",
   "id": "abfe0949-7172-4957-a9ea-64b8d96dc12e",
   "metadata": {},
   "source": [
    "BASIC LEVEL!!\n",
    "\n"
   ]
  },
  {
   "cell_type": "code",
   "execution_count": 48,
   "id": "fc18085d-9f85-4d54-be0e-61aecbb135e2",
   "metadata": {},
   "outputs": [
    {
     "name": "stdin",
     "output_type": "stream",
     "text": [
      "Enter a number:  4\n"
     ]
    },
    {
     "name": "stdout",
     "output_type": "stream",
     "text": [
      "The number is positive\n"
     ]
    }
   ],
   "source": [
    "# 1. Write a Python program that checks if a given number is positive, negative, or zero.\n",
    "\n",
    "\n",
    "# Get user input\n",
    "num = float(input(\"Enter a number: \"))\n",
    "\n",
    "# Check if the number is positive, negative, or zero\n",
    "if num > 0:\n",
    "    print(\"The number is positive\")\n",
    "elif num < 0:\n",
    "    print(\"The number is negative\")\n",
    "else:\n",
    "    print(\"The number is zero\")\n"
   ]
  },
  {
   "cell_type": "markdown",
   "id": "57830794-5ef1-4770-b195-a60ba0b95b80",
   "metadata": {},
   "source": [
    "EXPLANATION:-\n",
    "\n",
    "We start by getting user input using input(), and we convert it to a floating-point number using float().\n",
    "The program uses conditional statements (if, elif, and else) to check the value of num.\n",
    "If num is greater than 0, it prints \"The number is positive.\"\n",
    "If num is less than 0, it prints \"The number is negative.\"\n",
    "If neither condition is met (i.e., num is 0), it prints \"The number is zero.\""
   ]
  },
  {
   "cell_type": "code",
   "execution_count": 49,
   "id": "38228d6b-f989-4339-b103-9cb57c1dd53a",
   "metadata": {},
   "outputs": [
    {
     "name": "stdin",
     "output_type": "stream",
     "text": [
      "Enter your age:  17\n"
     ]
    },
    {
     "name": "stdout",
     "output_type": "stream",
     "text": [
      "You are not eligible to vote\n"
     ]
    }
   ],
   "source": [
    "# 2. Create a program to determine if a person is eligible to vote based on their age.\n",
    "\n",
    "\n",
    "# Get user input\n",
    "age = int(input(\"Enter your age: \"))\n",
    "\n",
    "# Check if the person is eligible to vote\n",
    "if age >= 18:\n",
    "    print(\"You are eligible to vote\")\n",
    "else:\n",
    "    print(\"You are not eligible to vote\")\n"
   ]
  },
  {
   "cell_type": "markdown",
   "id": "8e8a4bcd-6685-4163-832f-06e2d3a3467c",
   "metadata": {},
   "source": [
    "EXPLANATION:-\n",
    "\n",
    "We get the user's age as input and convert it to an integer.\n",
    "The program uses an if statement to check if the age is greater than or equal to 18.\n",
    "If the condition is met, it prints \"You are eligible to vote.\"\n",
    "If the condition is not met, it prints \"You are not eligible to vote.\""
   ]
  },
  {
   "cell_type": "code",
   "execution_count": 50,
   "id": "1d87e981-d160-44ca-bea5-95f951d1319e",
   "metadata": {},
   "outputs": [
    {
     "name": "stdin",
     "output_type": "stream",
     "text": [
      "Enter the first number:  34\n",
      "Enter the second number:  54\n"
     ]
    },
    {
     "name": "stdout",
     "output_type": "stream",
     "text": [
      "The maximum number is: 54.0\n"
     ]
    }
   ],
   "source": [
    "# 3. Write a program to find the maximum of two given numbers using conditional statements.\n",
    "\n",
    "\n",
    "# Get user input\n",
    "num1 = float(input(\"Enter the first number: \"))\n",
    "num2 = float(input(\"Enter the second number: \"))\n",
    "\n",
    "# Find the maximum using conditional statements\n",
    "if num1 > num2:\n",
    "    print(\"The maximum number is:\", num1)\n",
    "else:\n",
    "    print(\"The maximum number is:\", num2)\n"
   ]
  },
  {
   "cell_type": "markdown",
   "id": "240fc818-af1a-4417-8b15-d474ef87f13e",
   "metadata": {},
   "source": [
    "EXPLANATION:-\n",
    "\n",
    "We get two numbers as input and convert them to floating-point numbers.\n",
    "The program uses an if statement to compare the values of num1 and num2.\n",
    "If num1 is greater than num2, it prints \"The maximum number is\" followed by num1.\n",
    "If num2 is greater than or equal to num1, it prints \"The maximum number is\" followed by num2."
   ]
  },
  {
   "cell_type": "code",
   "execution_count": 51,
   "id": "50c11949-5b36-4146-86cc-af93bead1ae5",
   "metadata": {},
   "outputs": [
    {
     "name": "stdin",
     "output_type": "stream",
     "text": [
      "Enter the exam score:  90\n"
     ]
    },
    {
     "name": "stdout",
     "output_type": "stream",
     "text": [
      "The grade is: A\n"
     ]
    }
   ],
   "source": [
    "# 4. Develop a program that calculates the grade of a student based on their exam score.\n",
    "\n",
    "\n",
    "# Get user input\n",
    "score = float(input(\"Enter the exam score: \"))\n",
    "\n",
    "# Determine the grade based on the score\n",
    "if score >= 90:\n",
    "    grade = \"A\"\n",
    "elif score >= 80:\n",
    "    grade = \"B\"\n",
    "elif score >= 70:\n",
    "    grade = \"C\"\n",
    "elif score >= 60:\n",
    "    grade = \"D\"\n",
    "else:\n",
    "    grade = \"F\"\n",
    "\n",
    "print(\"The grade is:\", grade)\n"
   ]
  },
  {
   "cell_type": "markdown",
   "id": "56709b8e-1cca-475e-b56f-c5b209522572",
   "metadata": {},
   "source": [
    "EXPLANATION:-\n",
    "\n",
    "We get the exam score as input and convert it to a floating-point number.\n",
    "The program uses multiple if and elif statements to determine the grade based on the score.\n",
    "It checks the score against different grade boundaries and assigns the appropriate grade.\n",
    "Finally, it prints the calculated grade."
   ]
  },
  {
   "cell_type": "code",
   "execution_count": 52,
   "id": "37fb7a1e-0779-4d3c-86ba-0ce5854a5d0c",
   "metadata": {},
   "outputs": [
    {
     "name": "stdin",
     "output_type": "stream",
     "text": [
      "Enter a year:  20045\n"
     ]
    },
    {
     "name": "stdout",
     "output_type": "stream",
     "text": [
      "It's not a leap year\n"
     ]
    }
   ],
   "source": [
    "# 5. Create a program that checks if a year is a leap year or not.\n",
    "\n",
    "\n",
    "# Get user input\n",
    "year = int(input(\"Enter a year: \"))\n",
    "\n",
    "# Check if it's a leap year\n",
    "if (year % 4 == 0 and year % 100 != 0) or (year % 400 == 0):\n",
    "    print(\"It's a leap year\")\n",
    "else:\n",
    "    print(\"It's not a leap year\")\n"
   ]
  },
  {
   "cell_type": "markdown",
   "id": "513b066f-080e-40e9-a04e-c766eb13dc2b",
   "metadata": {},
   "source": [
    "EXPLANATION:-\n",
    "\n",
    "\n",
    "We get a year as input and convert it to an integer.\n",
    "The program uses an if statement to check whether the year meets the conditions for being a leap year.\n",
    "A leap year is divisible by 4 but not divisible by 100, except if it's also divisible by 400.\n",
    "If the conditions are met, it prints \"It's a leap year,\" otherwise, it prints \"It's not a leap year.\""
   ]
  },
  {
   "cell_type": "code",
   "execution_count": 53,
   "id": "974979cf-3c06-4ca5-8af1-e7fc1da133c4",
   "metadata": {},
   "outputs": [
    {
     "name": "stdin",
     "output_type": "stream",
     "text": [
      "Enter the length of side a:  90\n",
      "Enter the length of side b:  54\n",
      "Enter the length of side c:  56\n"
     ]
    },
    {
     "name": "stdout",
     "output_type": "stream",
     "text": [
      "It's a scalene triangle\n"
     ]
    }
   ],
   "source": [
    "# 6. Write a program to classify a triangle based on its sides' lengths.\n",
    "\n",
    "\n",
    "# Get user input\n",
    "a = float(input(\"Enter the length of side a: \"))\n",
    "b = float(input(\"Enter the length of side b: \"))\n",
    "c = float(input(\"Enter the length of side c: \"))\n",
    "\n",
    "# Check the type of triangle\n",
    "if a == b == c:\n",
    "    print(\"It's an equilateral triangle\")\n",
    "elif a == b or b == c or a == c:\n",
    "    print(\"It's an isosceles triangle\")\n",
    "else:\n",
    "    print(\"It's a scalene triangle\")\n"
   ]
  },
  {
   "cell_type": "markdown",
   "id": "85396ad8-f717-4274-9312-908e02dcae3e",
   "metadata": {},
   "source": [
    "EXPLANATION:-\n",
    "\n",
    "We get the lengths of three sides of a triangle as input and convert them to floating-point numbers.\n",
    "The program uses conditional statements to classify the type of triangle.\n",
    "If all three sides are equal, it's classified as an equilateral triangle.\n",
    "If at least two sides are equal, it's classified as an isosceles triangle.\n",
    "Otherwise, it's classified as a scalene triangle."
   ]
  },
  {
   "cell_type": "code",
   "execution_count": 54,
   "id": "4ea9cb23-e4cb-4464-9a7c-511154178765",
   "metadata": {},
   "outputs": [
    {
     "name": "stdin",
     "output_type": "stream",
     "text": [
      "Enter the first number:  1\n",
      "Enter the second number:  2\n",
      "Enter the third number:  3\n"
     ]
    },
    {
     "name": "stdout",
     "output_type": "stream",
     "text": [
      "The largest number is: 3.0\n"
     ]
    }
   ],
   "source": [
    "# 7. Build a program that determines the largest of three given numbers.\n",
    "\n",
    "\n",
    "# Get user input\n",
    "num1 = float(input(\"Enter the first number: \"))\n",
    "num2 = float(input(\"Enter the second number: \"))\n",
    "num3 = float(input(\"Enter the third number: \"))\n",
    "\n",
    "# Find the largest number using conditional statements\n",
    "if num1 >= num2 and num1 >= num3:\n",
    "    print(\"The largest number is:\", num1)\n",
    "elif num2 >= num1 and num2 >= num3:\n",
    "    print(\"The largest number is:\", num2)\n",
    "else:\n",
    "    print(\"The largest number is:\", num3)\n"
   ]
  },
  {
   "cell_type": "markdown",
   "id": "56feb851-f45d-4d45-8014-fd8c6cdc466b",
   "metadata": {},
   "source": [
    "EXPLANATION:-\n",
    "\n",
    "We get three numbers as input and convert them to floating-point numbers.\n",
    "The program uses conditional statements to compare the values of the three numbers.\n",
    "It checks which number is the largest and then prints the result."
   ]
  },
  {
   "cell_type": "code",
   "execution_count": 55,
   "id": "2f0401a5-6a8e-48c6-8d26-af30b073d048",
   "metadata": {},
   "outputs": [
    {
     "name": "stdin",
     "output_type": "stream",
     "text": [
      "Enter a character:  r\n"
     ]
    },
    {
     "name": "stdout",
     "output_type": "stream",
     "text": [
      "It's a consonant\n"
     ]
    }
   ],
   "source": [
    "# 8. Develop a program that checks whether a character is a vowel or a consonant\n",
    "\n",
    "\n",
    "# Get user input\n",
    "char = input(\"Enter a character: \")\n",
    "\n",
    "# Check if it's a vowel or a consonant\n",
    "if char.lower() in 'aeiou':\n",
    "    print(\"It's a vowel\")\n",
    "else:\n",
    "    print(\"It's a consonant\")\n"
   ]
  },
  {
   "cell_type": "markdown",
   "id": "2f9606d0-7489-4054-88a1-b371c14f5cc3",
   "metadata": {},
   "source": [
    "EXPLANATION:-\n",
    "\n",
    "We get a character as input.\n",
    "The program converts the character to lowercase using .lower() and checks if it's in the string 'aeiou' to determine if it's a vowel.\n",
    "If it's in the string, it prints \"It's a vowel\"; otherwise, it prints \"It's a consonant.\""
   ]
  },
  {
   "cell_type": "code",
   "execution_count": 56,
   "id": "b50d10a6-a741-4507-9157-5ce73e74bc76",
   "metadata": {},
   "outputs": [
    {
     "name": "stdin",
     "output_type": "stream",
     "text": [
      "Enter the number of items:  5\n",
      "Enter the price of an item:  7\n",
      "Enter the price of an item:  9\n",
      "Enter the price of an item:  45\n",
      "Enter the price of an item:  54\n",
      "Enter the price of an item:  67\n"
     ]
    },
    {
     "name": "stdout",
     "output_type": "stream",
     "text": [
      "Total cost after discounts: 163.8\n"
     ]
    }
   ],
   "source": [
    "# 9. Create a program to calculate the total cost of a shopping cart based on discounts.\n",
    "\n",
    "\n",
    "# Get user input\n",
    "item_count = int(input(\"Enter the number of items: \"))\n",
    "total_cost = 0\n",
    "\n",
    "# Calculate the total cost with discounts\n",
    "for _ in range(item_count):\n",
    "    item_price = float(input(\"Enter the price of an item: \"))\n",
    "    total_cost += item_price\n",
    "\n",
    "# Apply a discount if the total cost is above a certain threshold\n",
    "if total_cost >= 100:\n",
    "    total_cost *= 0.9  # 10% discount\n",
    "\n",
    "print(\"Total cost after discounts:\", total_cost)\n"
   ]
  },
  {
   "cell_type": "markdown",
   "id": "5bb630ee-f59c-404b-99f2-6318f623b43a",
   "metadata": {},
   "source": [
    "EXPLANATION:-\n",
    "\n",
    "We get the number of items and the prices of those items as input.\n",
    "The program initializes total_cost to 0.\n",
    "It calculates the total cost by summing up the prices of all items in a loop.\n",
    "If the total cost is greater than or equal to 100, a 10% discount is applied.\n",
    "Finally, it prints the total cost after applying any discounts."
   ]
  },
  {
   "cell_type": "code",
   "execution_count": 57,
   "id": "f5b85006-6afd-4add-b778-146f76884d35",
   "metadata": {},
   "outputs": [
    {
     "name": "stdin",
     "output_type": "stream",
     "text": [
      "Enter a number:  34\n"
     ]
    },
    {
     "name": "stdout",
     "output_type": "stream",
     "text": [
      "It's an even number\n"
     ]
    }
   ],
   "source": [
    "# 10. Write a program that checks if a given number is even or odd.\n",
    "\n",
    "\n",
    "# Get user input\n",
    "num = int(input(\"Enter a number: \"))\n",
    "\n",
    "# Check if it's even or odd\n",
    "if num % 2 == 0:\n",
    "    print(\"It's an even number\")\n",
    "else:\n",
    "    print(\"It's an odd number\")\n"
   ]
  },
  {
   "cell_type": "markdown",
   "id": "5628ba55-42ed-49c1-9b3a-faa3aac8bda1",
   "metadata": {},
   "source": [
    "EXPLANATION:-\n",
    "\n",
    "\n",
    "We get a number as input and convert it to an integer.\n",
    "The program uses the modulus operator % to check if the number is even or odd.\n",
    "If the remainder when dividing by 2 is 0, it's even; otherwise, it's odd. The program prints the result accordingly.\n"
   ]
  },
  {
   "cell_type": "markdown",
   "id": "8c78068a-9975-4a51-a832-c59c0bc19184",
   "metadata": {},
   "source": [
    "INTERMEDIATE LEVEL!!"
   ]
  },
  {
   "cell_type": "code",
   "execution_count": 58,
   "id": "db37e3a0-4f9c-4bf2-942c-8527aae07d05",
   "metadata": {},
   "outputs": [
    {
     "name": "stdin",
     "output_type": "stream",
     "text": [
      "Enter coefficient a:  45\n",
      "Enter coefficient b:  65\n",
      "Enter coefficient c:  47\n"
     ]
    },
    {
     "name": "stdout",
     "output_type": "stream",
     "text": [
      "Roots are complex: -0.7222222222222222 + 0.7230764179343976i and -0.7222222222222222 - 0.7230764179343976i\n"
     ]
    }
   ],
   "source": [
    "# 11. Write a program that calculates the roots of a quadratic equation .\n",
    "\n",
    "\n",
    "import math\n",
    "\n",
    "# Input coefficients a, b, and c of the quadratic equation ax^2 + bx + c = 0\n",
    "a = float(input(\"Enter coefficient a: \"))\n",
    "b = float(input(\"Enter coefficient b: \"))\n",
    "c = float(input(\"Enter coefficient c: \"))\n",
    "\n",
    "# Calculate the discriminant\n",
    "discriminant = b**2 - 4*a*c\n",
    "\n",
    "# Check if discriminant is positive, negative, or zero\n",
    "if discriminant > 0:\n",
    "    # Two real roots\n",
    "    root1 = (-b + math.sqrt(discriminant)) / (2*a)\n",
    "    root2 = (-b - math.sqrt(discriminant)) / (2*a)\n",
    "    print(f\"Roots are real and different: {root1} and {root2}\")\n",
    "elif discriminant == 0:\n",
    "    # One real root\n",
    "    root = -b / (2*a)\n",
    "    print(f\"Root is real and equal: {root}\")\n",
    "else:\n",
    "    # Complex roots\n",
    "    real_part = -b / (2*a)\n",
    "    imaginary_part = math.sqrt(-discriminant) / (2*a)\n",
    "    print(f\"Roots are complex: {real_part} + {imaginary_part}i and {real_part} - {imaginary_part}i\")\n"
   ]
  },
  {
   "cell_type": "markdown",
   "id": "c18cfde4-343d-40ad-9e04-537627293657",
   "metadata": {},
   "source": [
    "EXPLANATION:-\n",
    "\n",
    "This program calculates the roots of a quadratic equation in the form of ax^2 + bx + c = 0. It follows these steps:\n",
    "\n",
    "Import the math module to access the square root function.\n",
    "Prompt the user to input the coefficients a, b, and c.\n",
    "Calculate the discriminant using the formula discriminant = b^2 - 4ac.\n",
    "Check the value of the discriminant:\n",
    "If the discriminant is positive, there are two real roots, which are calculated using the quadratic formula.\n",
    "If the discriminant is zero, there is one real root.\n",
    "If the discriminant is negative, there are two complex roots, which are calculated and displayed.\n",
    "Print the roots or complex roots."
   ]
  },
  {
   "cell_type": "code",
   "execution_count": 59,
   "id": "d0e41e2a-3931-40d5-a598-f82999977376",
   "metadata": {},
   "outputs": [
    {
     "name": "stdin",
     "output_type": "stream",
     "text": [
      "Enter day number (1-7):  5\n"
     ]
    },
    {
     "name": "stdout",
     "output_type": "stream",
     "text": [
      "Day 5 is Thursday.\n"
     ]
    }
   ],
   "source": [
    "# 12. Create a program that determines the day of the week based on the day number (1-7).\n",
    "\n",
    "\n",
    "# Input day number (1-7)\n",
    "day_number = int(input(\"Enter day number (1-7): \"))\n",
    "\n",
    "# Define a list of days of the week\n",
    "days_of_week = [\"Sunday\", \"Monday\", \"Tuesday\", \"Wednesday\", \"Thursday\", \"Friday\", \"Saturday\"]\n",
    "\n",
    "# Check if the input is valid\n",
    "if 1 <= day_number <= 7:\n",
    "    day_name = days_of_week[day_number - 1]\n",
    "    print(f\"Day {day_number} is {day_name}.\")\n",
    "else:\n",
    "    print(\"Invalid day number. Please enter a number between 1 and 7.\")\n"
   ]
  },
  {
   "cell_type": "markdown",
   "id": "ad50e1f8-8286-409b-9fe5-7d308b3b1c8e",
   "metadata": {},
   "source": [
    "EXPLANATION:-\n",
    "\n",
    "This program determines the day of the week based on a user-provided day number (1-7). It follows these steps:\n",
    "\n",
    "Define a list days_of_week containing the names of days.\n",
    "Prompt the user to input a day number.\n",
    "Check if the input is within the valid range (1-7).\n",
    "If the input is valid, retrieve the corresponding day name from the list and display it.\n",
    "If the input is not valid, print an error message.\n"
   ]
  },
  {
   "cell_type": "code",
   "execution_count": 60,
   "id": "8d228db6-f867-4dd6-8ba2-66e1c171f187",
   "metadata": {},
   "outputs": [
    {
     "name": "stdin",
     "output_type": "stream",
     "text": [
      "Enter a number:  45\n"
     ]
    },
    {
     "name": "stdout",
     "output_type": "stream",
     "text": [
      "Factorial of 45 is 119622220865480194561963161495657715064383733760000000000\n"
     ]
    }
   ],
   "source": [
    "# 13. Develop a program that calculates the factorial of a given number using recursion.\n",
    "\n",
    "\n",
    "# Define a recursive function to calculate factorial\n",
    "def factorial(n):\n",
    "    if n == 0:\n",
    "        return 1\n",
    "    else:\n",
    "        return n * factorial(n - 1)\n",
    "\n",
    "# Input a number\n",
    "num = int(input(\"Enter a number: \"))\n",
    "\n",
    "# Calculate and print the factorial\n",
    "if num < 0:\n",
    "    print(\"Factorial is not defined for negative numbers.\")\n",
    "else:\n",
    "    result = factorial(num)\n",
    "    print(f\"Factorial of {num} is {result}\")\n"
   ]
  },
  {
   "cell_type": "markdown",
   "id": "09cd5cd0-60e3-4bb3-8a1a-6aeea5eab445",
   "metadata": {},
   "source": [
    "EXPLANATION:-\n",
    "\n",
    "his program calculates the factorial of a given number using a recursive function. It follows these steps:\n",
    "\n",
    "Define a recursive function factorial(n) that calculates the factorial of a number n.\n",
    "The base case is when n is 0, in which case the factorial is 1.\n",
    "Otherwise, it recursively calculates n * factorial(n - 1).\n",
    "Prompt the user to input a number.\n",
    "Check if the number is negative (factorial is not defined for negative numbers) and handle it accordingly.\n",
    "Calculate and print the factorial using the factorial function."
   ]
  },
  {
   "cell_type": "code",
   "execution_count": 62,
   "id": "8f81d994-f6be-4cd2-bb69-ce1ca3d87f47",
   "metadata": {},
   "outputs": [
    {
     "name": "stdin",
     "output_type": "stream",
     "text": [
      "Enter the first number:  1\n",
      "Enter the second number:  2\n",
      "Enter the third number:  3\n"
     ]
    },
    {
     "name": "stdout",
     "output_type": "stream",
     "text": [
      "The largest number among 1.0, 2.0, and 3.0 is 3.0.\n"
     ]
    }
   ],
   "source": [
    "# 14. Write a program to find the largest among three numbers without using the `max()` function.\n",
    "\n",
    "\n",
    "# Input three numbers\n",
    "num1 = float(input(\"Enter the first number: \"))\n",
    "num2 = float(input(\"Enter the second number: \"))\n",
    "num3 = float(input(\"Enter the third number: \"))\n",
    "\n",
    "# Compare the numbers to find the largest\n",
    "if num1 >= num2 and num1 >= num3:\n",
    "    largest = num1\n",
    "elif num2 >= num1 and num2 >= num3:\n",
    "    largest = num2\n",
    "else:\n",
    "    largest = num3\n",
    "\n",
    "print(f\"The largest number among {num1}, {num2}, and {num3} is {largest}.\")\n"
   ]
  },
  {
   "cell_type": "markdown",
   "id": "96a0e6fb-8de9-485a-949d-68b6088069d1",
   "metadata": {},
   "source": [
    "EXPLANATION:-\n",
    "\n",
    "This program finds the largest among three user-input numbers. It follows these steps:\n",
    "\n",
    "Prompt the user to input three numbers (num1, num2, and num3).\n",
    "Use conditional statements (if, elif, and else) to compare the three numbers and determine the largest one.\n",
    "Print the result with a message."
   ]
  },
  {
   "cell_type": "code",
   "execution_count": 63,
   "id": "c4ef56cc-5069-4523-b24f-753faacea940",
   "metadata": {},
   "outputs": [
    {
     "name": "stdout",
     "output_type": "stream",
     "text": [
      "ATM Menu:\n",
      "1. Check Balance\n",
      "2. Deposit\n",
      "3. Withdraw\n",
      "4. Quit\n"
     ]
    },
    {
     "name": "stdin",
     "output_type": "stream",
     "text": [
      "Enter your choice:  1\n"
     ]
    },
    {
     "name": "stdout",
     "output_type": "stream",
     "text": [
      "Your balance is $1000\n",
      "ATM Menu:\n",
      "1. Check Balance\n",
      "2. Deposit\n",
      "3. Withdraw\n",
      "4. Quit\n"
     ]
    },
    {
     "name": "stdin",
     "output_type": "stream",
     "text": [
      "Enter your choice:  2\n",
      "Enter the deposit amount:  80000\n"
     ]
    },
    {
     "name": "stdout",
     "output_type": "stream",
     "text": [
      "$80000.0 has been deposited. Your new balance is $81000.0\n",
      "ATM Menu:\n",
      "1. Check Balance\n",
      "2. Deposit\n",
      "3. Withdraw\n",
      "4. Quit\n"
     ]
    },
    {
     "name": "stdin",
     "output_type": "stream",
     "text": [
      "Enter your choice:  3\n",
      "Enter the withdrawal amount:  3456\n"
     ]
    },
    {
     "name": "stdout",
     "output_type": "stream",
     "text": [
      "$3456.0 has been withdrawn. Your new balance is $77544.0\n",
      "ATM Menu:\n",
      "1. Check Balance\n",
      "2. Deposit\n",
      "3. Withdraw\n",
      "4. Quit\n"
     ]
    },
    {
     "name": "stdin",
     "output_type": "stream",
     "text": [
      "Enter your choice:  1\n"
     ]
    },
    {
     "name": "stdout",
     "output_type": "stream",
     "text": [
      "Your balance is $77544.0\n",
      "ATM Menu:\n",
      "1. Check Balance\n",
      "2. Deposit\n",
      "3. Withdraw\n",
      "4. Quit\n"
     ]
    },
    {
     "name": "stdin",
     "output_type": "stream",
     "text": [
      "Enter your choice:  4\n"
     ]
    },
    {
     "name": "stdout",
     "output_type": "stream",
     "text": [
      "Thank you for using the ATM. Goodbye!\n"
     ]
    }
   ],
   "source": [
    "# 15. Create a program that simulates a basic ATM transaction menu.\n",
    "\n",
    "\n",
    "# Initialize account balance\n",
    "balance = 1000\n",
    "\n",
    "while True:\n",
    "    print(\"ATM Menu:\")\n",
    "    print(\"1. Check Balance\")\n",
    "    print(\"2. Deposit\")\n",
    "    print(\"3. Withdraw\")\n",
    "    print(\"4. Quit\")\n",
    "    \n",
    "    choice = int(input(\"Enter your choice: \"))\n",
    "    \n",
    "    if choice == 1:\n",
    "        print(f\"Your balance is ${balance}\")\n",
    "    elif choice == 2:\n",
    "        deposit_amount = float(input(\"Enter the deposit amount: \"))\n",
    "        balance += deposit_amount\n",
    "        print(f\"${deposit_amount} has been deposited. Your new balance is ${balance}\")\n",
    "    elif choice == 3:\n",
    "        withdraw_amount = float(input(\"Enter the withdrawal amount: \"))\n",
    "        if withdraw_amount <= balance:\n",
    "            balance -= withdraw_amount\n",
    "            print(f\"${withdraw_amount} has been withdrawn. Your new balance is ${balance}\")\n",
    "        else:\n",
    "            print(\"Insufficient funds!\")\n",
    "    elif choice == 4:\n",
    "        print(\"Thank you for using the ATM. Goodbye!\")\n",
    "        break\n",
    "    else:\n",
    "        print(\"Invalid choice. Please select a valid option.\")\n"
   ]
  },
  {
   "cell_type": "markdown",
   "id": "03bbfb7f-2539-4304-9470-ed815eb8ae0e",
   "metadata": {},
   "source": [
    "EXPLANATION:-\n",
    "\n",
    "This program simulates a basic ATM transaction menu with options to check balance, deposit, withdraw, and quit. It follows these steps:\n",
    "\n",
    "Initialize the account balance (balance) to $1000.\n",
    "Enter a loop that displays the ATM menu.\n",
    "Prompt the user to select an option (1-4) and perform the corresponding action.\n",
    "Option 1: Display the current balance.\n",
    "Option 2: Prompt for a deposit amount and update the balance.\n",
    "Option 3: Prompt for a withdrawal amount, check if sufficient funds are available, and update the balance if possible.\n",
    "Option 4: Quit the program.\n",
    "Repeat the loop until the user chooses to quit."
   ]
  },
  {
   "cell_type": "code",
   "execution_count": 64,
   "id": "fa450cf2-2469-436c-adce-849bb5a8850e",
   "metadata": {},
   "outputs": [
    {
     "name": "stdin",
     "output_type": "stream",
     "text": [
      "Enter a string:  WEFGHJ\n"
     ]
    },
    {
     "name": "stdout",
     "output_type": "stream",
     "text": [
      "WEFGHJ is not a palindrome.\n"
     ]
    }
   ],
   "source": [
    "# 16. Build a program that checks if a given string is a palindrome or not.\n",
    "\n",
    "\n",
    "# Input a string\n",
    "input_string = input(\"Enter a string: \")\n",
    "\n",
    "# Remove spaces and convert to lowercase for case-insensitive comparison\n",
    "cleaned_string = input_string.replace(\" \", \"\").lower()\n",
    "\n",
    "# Check if the cleaned string is equal to its reverse\n",
    "if cleaned_string == cleaned_string[::-1]:\n",
    "    print(f\"{input_string} is a palindrome.\")\n",
    "else:\n",
    "    print(f\"{input_string} is not a palindrome.\")\n"
   ]
  },
  {
   "cell_type": "markdown",
   "id": "3e087f58-7573-4726-a1b9-4501c889a1f5",
   "metadata": {},
   "source": [
    "EXPLANATION:-\n",
    "\n",
    "This program checks if a user-input string is a palindrome, which means it reads the same forwards and backwards. It follows these steps:\n",
    "\n",
    "Prompt the user to input a string.\n",
    "Remove spaces from the string and convert it to lowercase for case-insensitive comparison.\n",
    "Check if the cleaned string is equal to its reverse using slicing.\n",
    "Print the result based on whether it's a palindrome or not."
   ]
  },
  {
   "cell_type": "code",
   "execution_count": 65,
   "id": "c0f366aa-ab9f-4c94-b709-26a4108975cd",
   "metadata": {},
   "outputs": [
    {
     "name": "stdin",
     "output_type": "stream",
     "text": [
      "Enter a list of numbers separated by spaces:  23 34 56 78 67\n"
     ]
    },
    {
     "name": "stdout",
     "output_type": "stream",
     "text": [
      "The average of the numbers (excluding smallest and largest) is 52.33\n"
     ]
    }
   ],
   "source": [
    "# 17. Write a program that calculates the average of a list of numbers, excluding the smallest and largest values.\n",
    "\n",
    "\n",
    "# Input a list of numbers\n",
    "numbers = [float(x) for x in input(\"Enter a list of numbers separated by spaces: \").split()]\n",
    "\n",
    "# Check if there are at least 3 numbers in the list\n",
    "if len(numbers) < 3:\n",
    "    print(\"At least 3 numbers are required to calculate the average.\")\n",
    "else:\n",
    "    # Remove the smallest and largest values\n",
    "    numbers.remove(min(numbers))\n",
    "    numbers.remove(max(numbers))\n",
    "    \n",
    "    # Calculate and print the average of the remaining values\n",
    "    average = sum(numbers) / len(numbers)\n",
    "    print(f\"The average of the numbers (excluding smallest and largest) is {average:.2f}\")\n"
   ]
  },
  {
   "cell_type": "markdown",
   "id": "2946337e-9a92-4178-817f-c86cc63971fe",
   "metadata": {},
   "source": [
    "EXPLANATION:-\n",
    "\n",
    "This program calculates the average of a list of numbers while excluding the smallest and largest values in the list. It follows these steps:\n",
    "\n",
    "Prompt the user to input a list of numbers, separated by spaces.\n",
    "Convert the input string into a list of floating-point numbers using list comprehension.\n",
    "Check if there are at least three numbers in the list to calculate a meaningful average.\n",
    "If there are enough numbers:\n",
    "Remove the smallest and largest values from the list using the min() and max() functions, and the remove() method.\n",
    "Calculate the average of the remaining numbers by summing them and dividing by the count of remaining numbers.\n",
    "Print the calculated average."
   ]
  },
  {
   "cell_type": "code",
   "execution_count": 66,
   "id": "97a23f21-dd57-404f-a3e5-fa360776d2ec",
   "metadata": {},
   "outputs": [
    {
     "name": "stdin",
     "output_type": "stream",
     "text": [
      "Enter temperature in Celsius:  34\n"
     ]
    },
    {
     "name": "stdout",
     "output_type": "stream",
     "text": [
      "34.0°C is equal to 93.2°F.\n"
     ]
    }
   ],
   "source": [
    "# 18. Develop a program that converts a given temperature from Celsius to Fahrenheit.\n",
    "\n",
    "\n",
    "# Input temperature in Celsius\n",
    "celsius = float(input(\"Enter temperature in Celsius: \"))\n",
    "\n",
    "# Convert to Fahrenheit using the formula: F = (C * 9/5) + 32\n",
    "fahrenheit = (celsius * 9/5) + 32\n",
    "\n",
    "print(f\"{celsius}°C is equal to {fahrenheit}°F.\")\n"
   ]
  },
  {
   "cell_type": "markdown",
   "id": "cb1e3bd2-6999-4abc-ab11-ba4f4ff5af5b",
   "metadata": {},
   "source": [
    "EXPLANATION:-\n",
    "\n",
    "This program converts a temperature from Celsius to Fahrenheit using the formula F = (C * 9/5) + 32. It follows these steps:\n",
    "\n",
    "Prompt the user to input a temperature in Celsius.\n",
    "Convert the input to a floating-point number.\n",
    "Apply the conversion formula to calculate the equivalent temperature in Fahrenheit.\n",
    "Print the result."
   ]
  },
  {
   "cell_type": "code",
   "execution_count": 67,
   "id": "6019d21c-52f8-4012-a1b1-2881c7f9d658",
   "metadata": {},
   "outputs": [
    {
     "name": "stdin",
     "output_type": "stream",
     "text": [
      "Enter first number:  2\n",
      "Enter second number:  4\n",
      "Enter operation (+, -, *, /):  -\n"
     ]
    },
    {
     "name": "stdout",
     "output_type": "stream",
     "text": [
      "Result: -2.0\n"
     ]
    }
   ],
   "source": [
    "# 19. Create a program that simulates a basic calculator for addition, subtraction, multiplication, and division.\n",
    "\n",
    "\n",
    "# Input two numbers and the operation\n",
    "num1 = float(input(\"Enter first number: \"))\n",
    "num2 = float(input(\"Enter second number: \"))\n",
    "operation = input(\"Enter operation (+, -, *, /): \")\n",
    "\n",
    "# Perform the operation and display the result\n",
    "if operation == '+':\n",
    "    result = num1 + num2\n",
    "elif operation == '-':\n",
    "    result = num1 - num2\n",
    "elif operation == '*':\n",
    "    result = num1 * num2\n",
    "elif operation == '/':\n",
    "    if num2 != 0:\n",
    "        result = num1 / num2\n",
    "    else:\n",
    "        result = \"Division by zero is not allowed.\"\n",
    "else:\n",
    "    result = \"Invalid operation.\"\n",
    "\n",
    "print(f\"Result: {result}\")\n"
   ]
  },
  {
   "cell_type": "markdown",
   "id": "3b51d13a-393d-4890-8636-f9882b57a482",
   "metadata": {},
   "source": [
    "EXPLANATION:-\n",
    "\n",
    "This program simulates a basic calculator that can perform addition, subtraction, multiplication, and division. It follows these steps:\n",
    "\n",
    "Prompt the user to input two numbers (num1 and num2) and an operation (+, -, *, /).\n",
    "Use conditional statements to determine which operation to perform and calculate the result accordingly.\n",
    "Print the result of the operation."
   ]
  },
  {
   "cell_type": "code",
   "execution_count": 68,
   "id": "620b0c28-2a3c-4b87-89a1-752cf38a5f0d",
   "metadata": {},
   "outputs": [
    {
     "name": "stdin",
     "output_type": "stream",
     "text": [
      "Enter coefficient a:  34\n",
      "Enter coefficient b:  56\n",
      "Enter coefficient c:  78\n",
      "Enter coefficient d:  623\n"
     ]
    },
    {
     "name": "stdout",
     "output_type": "stream",
     "text": [
      "Root 1: 0.925+2.244j\n"
     ]
    }
   ],
   "source": [
    "# 20. Write a program that determines the roots of a cubic equation using the Cardano formula. \n",
    "\n",
    "\n",
    "import math\n",
    "\n",
    "# Input coefficients a, b, c, and d of the cubic equation ax^3 + bx^2 + cx + d = 0\n",
    "a = float(input(\"Enter coefficient a: \"))\n",
    "b = float(input(\"Enter coefficient b: \"))\n",
    "c = float(input(\"Enter coefficient c: \"))\n",
    "d = float(input(\"Enter coefficient d: \"))\n",
    "\n",
    "# Calculate intermediate values\n",
    "p = c / a - (b**2) / (3 * (a**2))\n",
    "q = (2 * (b**3)) / (27 * (a**3)) - (b * c) / (3 * (a**2)) + d / a\n",
    "\n",
    "# Calculate discriminant of the cubic equation\n",
    "discriminant = (q**2) / 4 + (p**3) / 27\n",
    "\n",
    "if discriminant > 0:\n",
    "    # Three real roots\n",
    "    root1 = (-q / 2 + math.sqrt(discriminant))**(1/3) + (-q / 2 - math.sqrt(discriminant))**(1/3) - b / (3 * a)\n",
    "    print(f\"Root 1: {root1:.3f}\")\n",
    "    \n",
    "elif discriminant == 0:\n",
    "    # One real root (repeated)\n",
    "    root1 = -q / 2**(1/3) - b / (3 * a)\n",
    "    print(f\"Root 1 (repeated): {root1:.3f}\")\n",
    "    \n",
    "else:\n",
    "    # Three real roots (one real, two complex)\n",
    "    r = math.sqrt(-(p**3) / 27)\n",
    "    theta = math.acos(-q / (2 * r))\n",
    "    \n",
    "    root1 = 2 * math.pow(r, 1/3) * math.cos(theta / 3) - b / (3 * a)\n",
    "    root2 = 2 * math.pow(r, 1/3) * math.cos((theta + 2 * math.pi) / 3) - b / (3 * a)\n",
    "    root3 = 2 * math.pow(r, 1/3) * math.cos((theta + 4 * math.pi) / 3) - b / (3 * a)\n",
    "    \n",
    "    print(f\"Root 1: {root1:.3f}\")\n",
    "    print(f\"Root 2: {root2:.3f}\")\n",
    "    print(f\"Root 3: {root3:.3f}\")\n"
   ]
  },
  {
   "cell_type": "markdown",
   "id": "67b5d2a5-c058-41c7-9c5b-c0045da8918d",
   "metadata": {},
   "source": [
    "EXPLANATION:-\n",
    "\n",
    "The program calculates the roots of the cubic equation based on the discriminant value:\n",
    "If the discriminant is greater than 0, there are three real roots. It calculates and prints them.\n",
    "If the discriminant is equal to 0, there is one real root (repeated). It calculates and prints it.\n",
    "If the discriminant is less than 0, there are three real roots, including one real root and two complex roots. It calculates and prints all three roots."
   ]
  },
  {
   "cell_type": "markdown",
   "id": "6f2c7f0d-714c-42c7-8b20-2ec9fde6fe8d",
   "metadata": {},
   "source": [
    "ADVANCE LEVEL!!"
   ]
  },
  {
   "cell_type": "code",
   "execution_count": 69,
   "id": "ccf428b1-f3de-431b-85f8-fc7e698cffc9",
   "metadata": {},
   "outputs": [
    {
     "name": "stdin",
     "output_type": "stream",
     "text": [
      "Enter your income:  34\n"
     ]
    },
    {
     "name": "stdout",
     "output_type": "stream",
     "text": [
      "Your income tax is: $3.4000000000000004\n"
     ]
    }
   ],
   "source": [
    "# 21. Create a program that calculates the income tax based on the user's income and tax brackets.\n",
    "\n",
    "\n",
    "# Get user's income as input\n",
    "income = float(input(\"Enter your income: \"))\n",
    "\n",
    "# Define tax brackets and rates\n",
    "tax_brackets = [(0, 10000), (10001, 30000), (30001, 70000), (70001, float('inf'))]\n",
    "tax_rates = [0.1, 0.2, 0.3, 0.4]\n",
    "\n",
    "# Calculate income tax\n",
    "tax = 0\n",
    "for i, (lower, upper) in enumerate(tax_brackets):\n",
    "    if income <= lower:\n",
    "        break\n",
    "    taxable_income = min(upper, income) - lower\n",
    "    tax += taxable_income * tax_rates[i]\n",
    "\n",
    "# Display the calculated income tax\n",
    "print(f\"Your income tax is: ${tax}\")\n"
   ]
  },
  {
   "cell_type": "markdown",
   "id": "82078fb7-0688-4de7-a3d5-f98aa81c0774",
   "metadata": {},
   "source": [
    "Explanation:\n",
    "\n",
    "This program calculates income tax based on user input.\n",
    "It first gets the user's income as a floating-point number.\n",
    "Tax brackets and rates are defined in two lists: tax_brackets and tax_rates.\n",
    "A for loop is used to iterate through the tax brackets and calculate the tax based on the user's income.\n",
    "If the user's income falls into a bracket, the program calculates the tax within that bracket.\n",
    "Finally, it displays the calculated income tax."
   ]
  },
  {
   "cell_type": "code",
   "execution_count": 71,
   "id": "09f3d7f6-442e-4a81-83a9-33386b128eff",
   "metadata": {},
   "outputs": [
    {
     "name": "stdin",
     "output_type": "stream",
     "text": [
      "Choose rock, paper, or scissors:  5\n"
     ]
    },
    {
     "name": "stdout",
     "output_type": "stream",
     "text": [
      "You lose! Computer chose paper.\n"
     ]
    }
   ],
   "source": [
    " \n",
    "# 22. Write a program that simulates a rock-paper-scissors game against the computer.\n",
    "\n",
    "\n",
    "import random\n",
    "\n",
    "# Get user's choice\n",
    "user_choice = input(\"Choose rock, paper, or scissors: \").lower()\n",
    "\n",
    "# Generate a random choice for the computer\n",
    "choices = ['rock', 'paper', 'scissors']\n",
    "computer_choice = random.choice(choices)\n",
    "\n",
    "# Determine the winner\n",
    "if user_choice == computer_choice:\n",
    "    print(\"It's a tie!\")\n",
    "elif (user_choice == 'rock' and computer_choice == 'scissors') or \\\n",
    "     (user_choice == 'paper' and computer_choice == 'rock') or \\\n",
    "     (user_choice == 'scissors' and computer_choice == 'paper'):\n",
    "    print(f\"You win! Computer chose {computer_choice}.\")\n",
    "else:\n",
    "    print(f\"You lose! Computer chose {computer_choice}.\")\n"
   ]
  },
  {
   "cell_type": "markdown",
   "id": "fa6409e9-2734-4b18-8cc0-4f6628f49a39",
   "metadata": {},
   "source": [
    "Explanation:\n",
    "\n",
    "This program simulates a rock-paper-scissors game against the computer.\n",
    "It uses the random module to generate a random choice for the computer.\n",
    "The user's choice is obtained as input and converted to lowercase for easy comparison.\n",
    "The program then checks the user's choice against the computer's choice to determine the winner."
   ]
  },
  {
   "cell_type": "code",
   "execution_count": 72,
   "id": "763bfb0f-9338-4ce5-a511-92516121b456",
   "metadata": {},
   "outputs": [
    {
     "name": "stdin",
     "output_type": "stream",
     "text": [
      "Enter password length:  7\n",
      "Include digits (yes/no):  yes\n",
      "Include symbols (yes/no):  no\n"
     ]
    },
    {
     "name": "stdout",
     "output_type": "stream",
     "text": [
      "Your random password is: KUJ3jVN\n"
     ]
    }
   ],
   "source": [
    "# 23. Develop a program that generates a random password based on user preferences (length, complexity).\n",
    "\n",
    "\n",
    "import random\n",
    "import string\n",
    "\n",
    "# Get user's preferences\n",
    "length = int(input(\"Enter password length: \"))\n",
    "include_digits = input(\"Include digits (yes/no): \").lower() == 'yes'\n",
    "include_symbols = input(\"Include symbols (yes/no): \").lower() == 'yes'\n",
    "\n",
    "# Define character sets\n",
    "characters = string.ascii_letters\n",
    "if include_digits:\n",
    "    characters += string.digits\n",
    "if include_symbols:\n",
    "    characters += string.punctuation\n",
    "\n",
    "# Generate a random password\n",
    "password = ''.join(random.choice(characters) for _ in range(length))\n",
    "\n",
    "# Display the generated password\n",
    "print(f\"Your random password is: {password}\")\n"
   ]
  },
  {
   "cell_type": "markdown",
   "id": "863b5c1c-e3df-4507-910e-fcd72899f72a",
   "metadata": {},
   "source": [
    "Explanation:\n",
    "\n",
    "This program generates a random password based on user preferences.\n",
    "It first asks the user for the desired password length and whether to include digits and symbols.\n",
    "Character sets are defined based on user preferences, including lowercase and uppercase letters.\n",
    "A random password is generated by selecting characters from the defined character sets."
   ]
  },
  {
   "cell_type": "code",
   "execution_count": 73,
   "id": "94cdadad-6a25-4465-93ee-febf59991117",
   "metadata": {},
   "outputs": [
    {
     "name": "stdout",
     "output_type": "stream",
     "text": [
      "Welcome to the Text Adventure Game!\n",
      "You find yourself in a dark forest. There are two paths ahead.\n"
     ]
    },
    {
     "name": "stdin",
     "output_type": "stream",
     "text": [
      "Do you take the 'left' or 'right' path?  left\n"
     ]
    },
    {
     "name": "stdout",
     "output_type": "stream",
     "text": [
      "You encounter a friendly gnome who offers you a map.\n",
      "You can now see a hidden treasure chest.\n"
     ]
    },
    {
     "name": "stdin",
     "output_type": "stream",
     "text": [
      "Do you 'take' the treasure or 'leave' it?  leave\n"
     ]
    },
    {
     "name": "stdout",
     "output_type": "stream",
     "text": [
      "You decided to leave the treasure. The game is over.\n"
     ]
    }
   ],
   "source": [
    "# 24. Create a program that implements a simple text-based adventure game with branching scenarios.\n",
    "\n",
    "\n",
    "# Start the adventure\n",
    "print(\"Welcome to the Text Adventure Game!\")\n",
    "\n",
    "# Initial scenario\n",
    "print(\"You find yourself in a dark forest. There are two paths ahead.\")\n",
    "choice = input(\"Do you take the 'left' or 'right' path? \").lower()\n",
    "\n",
    "# Branching scenarios\n",
    "if choice == 'left':\n",
    "    print(\"You encounter a friendly gnome who offers you a map.\")\n",
    "    print(\"You can now see a hidden treasure chest.\")\n",
    "    choice = input(\"Do you 'take' the treasure or 'leave' it? \").lower()\n",
    "    if choice == 'take':\n",
    "        print(\"Congratulations! You found the treasure and won the game.\")\n",
    "    else:\n",
    "        print(\"You decided to leave the treasure. The game is over.\")\n",
    "else:\n",
    "    print(\"You walk down the right path and get lost in a labyrinth.\")\n",
    "    print(\"After hours of wandering, you find an exit and escape.\")\n",
    "    print(\"You didn't find any treasure. The game is over.\")\n"
   ]
  },
  {
   "cell_type": "markdown",
   "id": "16f19e65-4bec-49bb-bd98-1bc85cfbf5dc",
   "metadata": {},
   "source": [
    "Explanation:\n",
    "\n",
    "This program implements a simple text-based adventure game.\n",
    "It starts by welcoming the player to the game and describing the initial scenario in a dark forest with two paths.\n",
    "The player is prompted to choose either the 'left' or 'right' path.\n",
    "Depending on the choice, different branching scenarios unfold, with text-based descriptions and decisions that affect the outcome."
   ]
  },
  {
   "cell_type": "code",
   "execution_count": 74,
   "id": "aabc9961-f285-47ff-9350-487ae4ac0315",
   "metadata": {},
   "outputs": [
    {
     "name": "stdin",
     "output_type": "stream",
     "text": [
      "Enter the coefficient 'a':  45\n",
      "Enter the coefficient 'b':  67\n"
     ]
    },
    {
     "name": "stdout",
     "output_type": "stream",
     "text": [
      "The solution to 45.0x + 67.0 = 0 is x = -1.488888888888889\n"
     ]
    }
   ],
   "source": [
    "# 25. Build a program that solves a linear equation for x, considering different cases.\n",
    "\n",
    "\n",
    "# Get coefficients a and b from the user\n",
    "a = float(input(\"Enter the coefficient 'a': \"))\n",
    "b = float(input(\"Enter the coefficient 'b': \"))\n",
    "\n",
    "# Solve the equation ax + b = 0\n",
    "if a == 0:\n",
    "    if b == 0:\n",
    "        print(\"Infinite solutions (any x value)\")\n",
    "    else:\n",
    "        print(\"No solution\")\n",
    "else:\n",
    "    x = -b / a\n",
    "    print(f\"The solution to {a}x + {b} = 0 is x = {x}\")\n"
   ]
  },
  {
   "cell_type": "markdown",
   "id": "9ad50f87-4f9e-4b23-b0c4-dfe09d42a3c8",
   "metadata": {},
   "source": [
    "Explanation:\n",
    "\n",
    "This program solves a linear equation of the form ax + b = 0 for the variable x.\n",
    "It takes coefficients 'a' and 'b' as user input.\n",
    "It handles different cases:\n",
    "If 'a' is 0 and 'b' is 0, it indicates infinite solutions.\n",
    "If 'a' is 0 and 'b' is not 0, it indicates no solution.\n",
    "Otherwise, it calculates and displays the solution for x."
   ]
  },
  {
   "cell_type": "code",
   "execution_count": 75,
   "id": "03543603-4689-4875-bb98-cfe49ca5a5c8",
   "metadata": {},
   "outputs": [
    {
     "name": "stdout",
     "output_type": "stream",
     "text": [
      "Welcome to the Quiz Game!\n",
      "Question 1: What is the capital of France?\n",
      "1. London\n",
      "2. Berlin\n",
      "3. Paris\n",
      "4. Madrid\n"
     ]
    },
    {
     "name": "stdin",
     "output_type": "stream",
     "text": [
      "Your answer (enter the option number):  1\n"
     ]
    },
    {
     "name": "stdout",
     "output_type": "stream",
     "text": [
      "Wrong! The correct answer is: Paris\n",
      "\n",
      "Question 2: Which planet is known as the Red Planet?\n",
      "1. Earth\n",
      "2. Mars\n",
      "3. Venus\n",
      "4. Jupiter\n"
     ]
    },
    {
     "name": "stdin",
     "output_type": "stream",
     "text": [
      "Your answer (enter the option number):  2\n"
     ]
    },
    {
     "name": "stdout",
     "output_type": "stream",
     "text": [
      "Correct!\n",
      "\n",
      "Question 3: What is the largest mammal in the world?\n",
      "1. Elephant\n",
      "2. Blue Whale\n",
      "3. Giraffe\n",
      "4. Kangaroo\n"
     ]
    },
    {
     "name": "stdin",
     "output_type": "stream",
     "text": [
      "Your answer (enter the option number):  1\n"
     ]
    },
    {
     "name": "stdout",
     "output_type": "stream",
     "text": [
      "Wrong! The correct answer is: Blue Whale\n",
      "\n",
      "Your final score is: 1/3\n"
     ]
    }
   ],
   "source": [
    "# 26. Write a program that simulates a basic quiz game with multiple-choice questions and scoring.\n",
    "\n",
    "\n",
    "# Define a list of multiple-choice questions and their correct answers\n",
    "questions = [\n",
    "    {\"question\": \"What is the capital of France?\", \"options\": [\"London\", \"Berlin\", \"Paris\", \"Madrid\"], \"answer\": \"Paris\"},\n",
    "    {\"question\": \"Which planet is known as the Red Planet?\", \"options\": [\"Earth\", \"Mars\", \"Venus\", \"Jupiter\"], \"answer\": \"Mars\"},\n",
    "    {\"question\": \"What is the largest mammal in the world?\", \"options\": [\"Elephant\", \"Blue Whale\", \"Giraffe\", \"Kangaroo\"], \"answer\": \"Blue Whale\"}\n",
    "]\n",
    "\n",
    "# Initialize score\n",
    "score = 0\n",
    "\n",
    "# Start the quiz\n",
    "print(\"Welcome to the Quiz Game!\")\n",
    "\n",
    "# Ask questions and evaluate answers\n",
    "for i, question in enumerate(questions, start=1):\n",
    "    print(f\"Question {i}: {question['question']}\")\n",
    "    for j, option in enumerate(question['options'], start=1):\n",
    "        print(f\"{j}. {option}\")\n",
    "    user_answer = input(\"Your answer (enter the option number): \").strip()\n",
    "    if user_answer == str(question['options'].index(question['answer']) + 1):\n",
    "        print(\"Correct!\\n\")\n",
    "        score += 1\n",
    "    else:\n",
    "        print(f\"Wrong! The correct answer is: {question['answer']}\\n\")\n",
    "\n",
    "# Display the final score\n",
    "print(f\"Your final score is: {score}/{len(questions)}\")\n"
   ]
  },
  {
   "cell_type": "markdown",
   "id": "9dd61372-7cd0-4837-99a8-78676e620a88",
   "metadata": {},
   "source": [
    "EXPLANATION:-\n",
    "\n",
    "\n",
    "This program implements a basic quiz game with multiple-choice questions and scoring.\n",
    "It begins by welcoming the player to the game.\n",
    "A list of questions, each with a question statement, answer options, and the correct answer, is defined.\n",
    "The program asks each question one by one and waits for the player's input (the option number).\n",
    "If the player's input matches the correct answer, their score increases, and the program informs them that their answer is correct.\n",
    "If the player's input is incorrect, the program reveals the correct answer.\n",
    "After all questions have been asked, the program displays the player's final score."
   ]
  },
  {
   "cell_type": "code",
   "execution_count": 76,
   "id": "c242cb95-04d9-46a8-a764-e62fb9253f37",
   "metadata": {},
   "outputs": [
    {
     "name": "stdin",
     "output_type": "stream",
     "text": [
      "Enter a year:  20078\n"
     ]
    },
    {
     "name": "stdout",
     "output_type": "stream",
     "text": [
      "20078 is not a prime year.\n"
     ]
    }
   ],
   "source": [
    "# 27. Develop a program that determines whether a given year is a prime number or not.\n",
    "\n",
    "\n",
    "# Get a year from the user\n",
    "year = int(input(\"Enter a year: \"))\n",
    "\n",
    "# Check if the year is prime\n",
    "is_prime = True\n",
    "if year < 2:\n",
    "    is_prime = False\n",
    "else:\n",
    "    for i in range(2, int(year**0.5) + 1):\n",
    "        if year % i == 0:\n",
    "            is_prime = False\n",
    "            break\n",
    "\n",
    "# Display the result\n",
    "if is_prime:\n",
    "    print(f\"{year} is a prime year.\")\n",
    "else:\n",
    "    print(f\"{year} is not a prime year.\")\n"
   ]
  },
  {
   "cell_type": "markdown",
   "id": "6104b717-338f-4b8c-8307-64f138261c55",
   "metadata": {},
   "source": [
    "EXPLANATION:-\n",
    "\n",
    "\n",
    "This program determines whether a given year is a prime number or not.\n",
    "The user is prompted to input a year.\n",
    "The program checks if the input year is less than 2, in which case it's not prime.\n",
    "If the year is greater than or equal to 2, it checks for factors of the year from 2 up to the square root of the year.\n",
    "If any factors are found, the program concludes that the year is not prime.\n",
    "If no factors are found, it determines that the year is prime."
   ]
  },
  {
   "cell_type": "code",
   "execution_count": 77,
   "id": "fea8736d-0b52-4bdf-9586-470f73934a25",
   "metadata": {},
   "outputs": [
    {
     "name": "stdin",
     "output_type": "stream",
     "text": [
      "Enter the first number:  1\n",
      "Enter the second number:  2\n",
      "Enter the third number:  3\n"
     ]
    },
    {
     "name": "stdout",
     "output_type": "stream",
     "text": [
      "Numbers in ascending order: [1.0, 2.0, 3.0]\n"
     ]
    }
   ],
   "source": [
    "# 28. Create a program that sorts three numbers in ascending order using conditional statements.\n",
    "\n",
    "\n",
    "# Get three numbers from the user\n",
    "num1 = float(input(\"Enter the first number: \"))\n",
    "num2 = float(input(\"Enter the second number: \"))\n",
    "num3 = float(input(\"Enter the third number: \"))\n",
    "\n",
    "# Sort the numbers in ascending order\n",
    "if num1 <= num2 <= num3:\n",
    "    sorted_nums = [num1, num2, num3]\n",
    "elif num1 <= num3 <= num2:\n",
    "    sorted_nums = [num1, num3, num2]\n",
    "elif num2 <= num1 <= num3:\n",
    "    sorted_nums = [num2, num1, num3]\n",
    "elif num2 <= num3 <= num1:\n",
    "    sorted_nums = [num2, num3, num1]\n",
    "elif num3 <= num1 <= num2:\n",
    "    sorted_nums = [num3, num1, num2]\n",
    "else:\n",
    "    sorted_nums = [num3, num2, num1]\n",
    "\n",
    "# Display the sorted numbers\n",
    "print(\"Numbers in ascending order:\", sorted_nums)\n"
   ]
  },
  {
   "cell_type": "markdown",
   "id": "2546f0b3-78c5-4393-85d9-d678aa5f06f0",
   "metadata": {},
   "source": [
    "EXPLANATION:-\n",
    "\n",
    "This program takes three numbers as input from the user.\n",
    "It then uses conditional statements to sort the numbers in ascending order.\n",
    "The code considers all possible permutations of the three numbers and uses if and elif statements to identify the correct order.\n",
    "Finally, it displays the sorted numbers in ascending order.\n"
   ]
  },
  {
   "cell_type": "code",
   "execution_count": 78,
   "id": "5bd40f91-6312-43f0-9b5a-83d5f3db39d2",
   "metadata": {},
   "outputs": [
    {
     "name": "stdin",
     "output_type": "stream",
     "text": [
      "Enter the coefficient 'a':  23\n",
      "Enter the coefficient 'b':  43\n",
      "Enter the coefficient 'c':  34\n",
      "Enter the coefficient 'd':  32\n",
      "Enter the coefficient 'e':  2\n"
     ]
    },
    {
     "name": "stdout",
     "output_type": "stream",
     "text": [
      "The roots of the quartic equation are: [-1.47920264+0.j         -0.16174992+0.92360294j -0.16174992-0.92360294j\n",
      " -0.06686273+0.j        ]\n"
     ]
    }
   ],
   "source": [
    "# 29. Build a program that determines the roots of a quartic equation using numerical methods.\n",
    "\n",
    "\n",
    "import numpy as np\n",
    "\n",
    "# Get coefficients a, b, c, d, and e from the user for the equation ax^4 + bx^3 + cx^2 + dx + e = 0\n",
    "a = float(input(\"Enter the coefficient 'a': \"))\n",
    "b = float(input(\"Enter the coefficient 'b': \"))\n",
    "c = float(input(\"Enter the coefficient 'c': \"))\n",
    "d = float(input(\"Enter the coefficient 'd': \"))\n",
    "e = float(input(\"Enter the coefficient 'e': \"))\n",
    "\n",
    "# Solve the quartic equation using NumPy's roots function\n",
    "coeff = [a, b, c, d, e]\n",
    "roots = np.roots(coeff)\n",
    "\n",
    "# Display the roots of the quartic equation\n",
    "print(\"The roots of the quartic equation are:\", roots)\n"
   ]
  },
  {
   "cell_type": "markdown",
   "id": "ced4f4ae-1e29-4633-b1cf-9993347c0ae7",
   "metadata": {},
   "source": [
    "EXPLANATION:-\n",
    "\n",
    "This code solves a quartic equation of the form ax^4 + bx^3 + cx^2 + dx + e = 0, where the user provides coefficients a, b, c, d, and e.\n",
    "It uses the numpy library to find the roots of the quartic equation using the np.roots function.\n",
    "The coefficients are collected from the user, and the roots of the equation are computed.\n",
    "The roots are then displayed as the solution to the quartic equation.\n"
   ]
  },
  {
   "cell_type": "code",
   "execution_count": 79,
   "id": "43a6dff0-7af1-42ee-991e-4b7edd5b2dc0",
   "metadata": {},
   "outputs": [
    {
     "name": "stdin",
     "output_type": "stream",
     "text": [
      "Enter your height (in meters):  4\n",
      "Enter your weight (in kilograms):  5\n"
     ]
    },
    {
     "name": "stdout",
     "output_type": "stream",
     "text": [
      "Your BMI is 0.31, which is underweight. You should consider gaining weight.\n"
     ]
    }
   ],
   "source": [
    "# 30. Write a program that calculates the BMI (Body Mass Index) and provides health recommendations based\n",
    "# on the user's input.\n",
    "\n",
    "\n",
    "# Get user's height in meters and weight in kilograms\n",
    "height = float(input(\"Enter your height (in meters): \"))\n",
    "weight = float(input(\"Enter your weight (in kilograms): \"))\n",
    "\n",
    "# Calculate BMI\n",
    "bmi = weight / (height ** 2)\n",
    "\n",
    "# Provide health recommendations based on BMI\n",
    "if bmi < 18.5:\n",
    "    print(f\"Your BMI is {bmi:.2f}, which is underweight. You should consider gaining weight.\")\n",
    "elif 18.5 <= bmi < 24.9:\n",
    "    print(f\"Your BMI is {bmi:.2f}, which is normal. Maintain a healthy lifestyle.\")\n",
    "elif 25 <= bmi < 29.9:\n",
    "    print(f\"Your BMI is {bmi:.2f}, which is overweight. You should consider losing weight.\")\n",
    "else:\n",
    "    print(f\"Your BMI is {bmi:.2f}, which is obese. Consult a healthcare professional.\")\n"
   ]
  },
  {
   "cell_type": "markdown",
   "id": "e9217c11-f078-42f8-82dd-625d79de732e",
   "metadata": {},
   "source": [
    "EXPLANATION:-\n",
    "\n",
    "This program calculates the Body Mass Index (BMI) based on the user's input of height and weight.\n",
    "It first asks the user to input their height in meters and weight in kilograms.\n",
    "BMI is calculated using the formula: BMI = weight (kg) / (height^2) (m^2).\n",
    "The program provides health recommendations based on the calculated BMI:\n",
    "If BMI is less than 18.5, it suggests the user should consider gaining weight.\n",
    "If BMI is between 18.5 and 24.9, it indicates a normal weight and suggests maintaining a healthy lifestyle.\n",
    "If BMI is between 25 and 29.9, it suggests considering weight loss (overweight).\n",
    "If BMI is 30 or greater, it suggests consulting a healthcare professional (obese)."
   ]
  },
  {
   "cell_type": "markdown",
   "id": "0f0c1af7-58d1-4495-b979-6775a5e70201",
   "metadata": {},
   "source": [
    "CHALLENGE LEVEL!!"
   ]
  },
  {
   "cell_type": "code",
   "execution_count": 80,
   "id": "f34df163-265b-47aa-bc6b-c2f269a1f306",
   "metadata": {},
   "outputs": [
    {
     "name": "stdin",
     "output_type": "stream",
     "text": [
      "Enter a password:  SOURABH\n"
     ]
    },
    {
     "name": "stdout",
     "output_type": "stream",
     "text": [
      "Invalid password\n"
     ]
    }
   ],
   "source": [
    "# 31. Create a program that validates a password based on complexity rules (length, characters, etc.).\n",
    "\n",
    "import re\n",
    "\n",
    "def is_valid_password(password):\n",
    "    # Password should be at least 8 characters long\n",
    "    if len(password) < 8:\n",
    "        return False\n",
    "\n",
    "    # Password should contain at least one uppercase letter\n",
    "    if not re.search(r'[A-Z]', password):\n",
    "        return False\n",
    "\n",
    "    # Password should contain at least one lowercase letter\n",
    "    if not re.search(r'[a-z]', password):\n",
    "        return False\n",
    "\n",
    "    # Password should contain at least one digit\n",
    "    if not re.search(r'\\d', password):\n",
    "        return False\n",
    "\n",
    "    # Password should contain at least one special character\n",
    "    if not re.search(r'[!@#$%^&*()_+{}:;<>,.?~\\[\\]|\\-]', password):\n",
    "        return False\n",
    "\n",
    "    return True\n",
    "\n",
    "# Example usage\n",
    "password = input(\"Enter a password: \")\n",
    "if is_valid_password(password):\n",
    "    print(\"Valid password\")\n",
    "else:\n",
    "    print(\"Invalid password\")\n",
    "\n"
   ]
  },
  {
   "cell_type": "markdown",
   "id": "1b0d0edb-7269-425c-843d-3aa2ba12c06b",
   "metadata": {},
   "source": [
    "EXPLANATION:-\n",
    "\n",
    "This program validates a password based on complexity rules. Here's the breakdown:\n",
    "\n",
    "The program defines a function called is_valid_password(password) that takes a password as input and checks if it meets certain complexity criteria.\n",
    "\n",
    "The criteria are as follows:\n",
    "\n",
    "The password must be at least 8 characters long.\n",
    "It should contain at least one uppercase letter (A-Z).\n",
    "It should contain at least one lowercase letter (a-z).\n",
    "It should contain at least one digit (0-9).\n",
    "It should contain at least one special character (e.g., !@#$%^&*()_+{}:;<>,.?~[]|-).\n",
    "The program then prompts the user to enter a password, and it calls the is_valid_password function to check if the entered password is valid based on the defined criteria.\n",
    "\n",
    "Finally, it prints whether the entered password is valid or invalid."
   ]
  },
  {
   "cell_type": "code",
   "execution_count": 81,
   "id": "5d8154f2-c1c0-4226-9097-23646a30b953",
   "metadata": {},
   "outputs": [
    {
     "name": "stdout",
     "output_type": "stream",
     "text": [
      "Matrix Addition:\n",
      "[6, 8]\n",
      "[10, 12]\n",
      "Matrix Subtraction:\n",
      "[-4, -4]\n",
      "[-4, -4]\n"
     ]
    }
   ],
   "source": [
    "# 32. Develop a program that performs matrix addition and subtraction based on user input.\n",
    "\n",
    "\n",
    "def matrix_addition(matrix1, matrix2):\n",
    "    result = []\n",
    "    for i in range(len(matrix1)):\n",
    "        row = []\n",
    "        for j in range(len(matrix1[0])):\n",
    "            row.append(matrix1[i][j] + matrix2[i][j])\n",
    "        result.append(row)\n",
    "    return result\n",
    "\n",
    "def matrix_subtraction(matrix1, matrix2):\n",
    "    result = []\n",
    "    for i in range(len(matrix1)):\n",
    "        row = []\n",
    "        for j in range(len(matrix1[0])):\n",
    "            row.append(matrix1[i][j] - matrix2[i][j])\n",
    "        result.append(row)\n",
    "    return result\n",
    "\n",
    "# Example usage\n",
    "matrix1 = [[1, 2], [3, 4]]\n",
    "matrix2 = [[5, 6], [7, 8]]\n",
    "result_add = matrix_addition(matrix1, matrix2)\n",
    "result_sub = matrix_subtraction(matrix1, matrix2)\n",
    "print(\"Matrix Addition:\")\n",
    "for row in result_add:\n",
    "    print(row)\n",
    "print(\"Matrix Subtraction:\")\n",
    "for row in result_sub:\n",
    "    print(row)\n"
   ]
  },
  {
   "cell_type": "markdown",
   "id": "e32b6922-f777-4e22-8285-1b631ce7e8b0",
   "metadata": {},
   "source": [
    "EXPLANATION:-\n",
    "\n",
    "This program performs matrix addition and subtraction based on user input:\n",
    "\n",
    "It defines two functions: matrix_addition(matrix1, matrix2) and matrix_subtraction(matrix1, matrix2) that take two matrices as input and return the result of addition and subtraction, respectively.\n",
    "The user is prompted to enter the elements of two matrices (matrix1 and matrix2) row by row.\n",
    "The program then calls the matrix_addition and matrix_subtraction functions to calculate the results and prints them."
   ]
  },
  {
   "cell_type": "code",
   "execution_count": 82,
   "id": "d58f179f-bcc9-4999-a469-7b1237e01538",
   "metadata": {},
   "outputs": [
    {
     "name": "stdin",
     "output_type": "stream",
     "text": [
      "Enter the first number:  2\n",
      "Enter the second number:  3\n"
     ]
    },
    {
     "name": "stdout",
     "output_type": "stream",
     "text": [
      "GCD: 1\n"
     ]
    }
   ],
   "source": [
    "# 33. Write a program that calculates the greatest common divisor (GCD) of two numbers using the Euclidean\n",
    "# algorithm.\n",
    "\n",
    "\n",
    "def gcd(a, b):\n",
    "    while b:\n",
    "        a, b = b, a % b\n",
    "    return a\n",
    "\n",
    "# Example usage\n",
    "num1 = int(input(\"Enter the first number: \"))\n",
    "num2 = int(input(\"Enter the second number: \"))\n",
    "result = gcd(num1, num2)\n",
    "print(\"GCD:\", result)\n"
   ]
  },
  {
   "cell_type": "markdown",
   "id": "cd24f44b-4487-4604-bec0-d08d3a6ddb74",
   "metadata": {},
   "source": [
    "EXPLANATION:-\n",
    "\n",
    "This program calculates the greatest common divisor (GCD) of two numbers using the Euclidean algorithm:\n",
    "\n",
    "It defines a function gcd(a, b) that takes two numbers as input (a and b) and calculates their GCD using the Euclidean algorithm.\n",
    "The program prompts the user to enter two numbers.\n",
    "It then calls the gcd function with the user-provided numbers and prints the GCD"
   ]
  },
  {
   "cell_type": "code",
   "execution_count": 84,
   "id": "1c1f4b81-d7ec-4a3e-a738-e04c2f1ffe2b",
   "metadata": {},
   "outputs": [
    {
     "name": "stdout",
     "output_type": "stream",
     "text": [
      "[19, 22]\n",
      "[43, 50]\n"
     ]
    }
   ],
   "source": [
    "# 34. Build a program that performs matrix multiplication using nested loops and conditional statements.\n",
    "\n",
    "\n",
    "def matrix_multiplication(matrix1, matrix2):\n",
    "    if len(matrix1[0]) != len(matrix2):\n",
    "        return None  # Matrices cannot be multiplied\n",
    "    \n",
    "    result = []\n",
    "    for i in range(len(matrix1)):\n",
    "        row = []\n",
    "        for j in range(len(matrix2[0])):\n",
    "            total = 0\n",
    "            for k in range(len(matrix2)):\n",
    "                total += matrix1[i][k] * matrix2[k][j]\n",
    "            row.append(total)\n",
    "        result.append(row)\n",
    "    return result\n",
    "\n",
    "# Example usage\n",
    "matrix1 = [[1, 2], [3, 4]]\n",
    "matrix2 = [[5, 6], [7, 8]]\n",
    "result = matrix_multiplication(matrix1, matrix2)\n",
    "if result:\n",
    "    for row in result:\n",
    "        print(row)\n",
    "else:\n",
    "    print(\"Matrices cannot be multiplied.\")\n"
   ]
  },
  {
   "cell_type": "markdown",
   "id": "0b595550-12a4-4c9c-aea1-6ff3d5c6d1b8",
   "metadata": {},
   "source": [
    "EXPLANATION:-\n",
    "\n",
    "This program performs matrix multiplication:\n",
    "\n",
    "It defines a function matrix_multiplication(matrix1, matrix2) that takes two matrices as input and returns their product if they can be multiplied, or None if they cannot.\n",
    "The user is prompted to enter the elements of two matrices (matrix1 and matrix2) row by row.\n",
    "The program then calls the matrix_multiplication function to calculate the result and prints the product matrix or a message indicating that the matrices cannot be multiplied."
   ]
  },
  {
   "cell_type": "code",
   "execution_count": null,
   "id": "30bec67c-7b9f-4a9d-a3c4-9364a96049a9",
   "metadata": {},
   "outputs": [
    {
     "name": "stdin",
     "output_type": "stream",
     "text": [
      "Choose your symbol (X or O):  O\n"
     ]
    },
    {
     "name": "stdout",
     "output_type": "stream",
     "text": [
      "  |   |  \n",
      "---------\n",
      "  |   |  \n",
      "---------\n",
      "  |   |  \n",
      "---------\n",
      "Invalid move. Try again.\n",
      "Invalid move. Try again.\n",
      "Invalid move. Try again.\n",
      "Invalid move. Try again.\n",
      "Invalid move. Try again.\n",
      "Invalid move. Try again.\n",
      "Invalid move. Try again.\n",
      "Invalid move. Try again.\n",
      "Invalid move. Try again.\n"
     ]
    }
   ],
   "source": [
    "# 35. Create a program that simulates a basic text-based tic-tac-toe game against the computer.\n",
    "\n",
    "\n",
    "import random\n",
    "\n",
    "def print_board(board):\n",
    "    for row in board:\n",
    "        print(\" | \".join(row))\n",
    "        print(\"-\" * 9)\n",
    "\n",
    "def check_win(board, player):\n",
    "    for row in board:\n",
    "        if all(cell == player for cell in row):\n",
    "            return True\n",
    "\n",
    "    for col in range(3):\n",
    "        if all(row[col] == player for row in board):\n",
    "            return True\n",
    "\n",
    "    if all(board[i][i] == player for i in range(3)) or all(board[i][2 - i] == player for i in range(3)):\n",
    "        return True\n",
    "\n",
    "    return False\n",
    "\n",
    "def is_board_full(board):\n",
    "    for row in board:\n",
    "        if \" \" in row:\n",
    "            return False\n",
    "    return True\n",
    "\n",
    "def computer_move(board, computer_symbol, player_symbol):\n",
    "    for i in range(3):\n",
    "        for j in range(3):\n",
    "            if board[i][j] == \" \":\n",
    "                board[i][j] = computer_symbol\n",
    "                if check_win(board, computer_symbol):\n",
    "                    return i, j\n",
    "                board[i][j] = \" \"\n",
    "\n",
    "    for i in range(3):\n",
    "        for j in range(3):\n",
    "            if board[i][j] == \" \":\n",
    "                board[i][j] = player_symbol\n",
    "                if check_win(board, player_symbol):\n",
    "                    board[i][j] = computer_symbol\n",
    "                    return i, j\n",
    "                board[i][j] = \" \"\n",
    "\n",
    "    while True:\n",
    "        row = random.randint(0, 2)\n",
    "        col = random.randint(0, 2)\n",
    "        if board[row][col] == \" \":\n",
    "            board[row][col] = computer_symbol\n",
    "            return row, col\n",
    "\n",
    "def main():\n",
    "    board = [[\" \" for _ in range(3)] for _ in range(3)]\n",
    "    player_symbol = input(\"Choose your symbol (X or O): \").upper()\n",
    "    computer_symbol = \"X\" if player_symbol == \"O\" else \"O\"\n",
    "\n",
    "    print_board(board)\n",
    "\n",
    "    while True:\n",
    "        if player_symbol == \"X\":\n",
    "            player_row, player_col = map(int, input(\"Enter your move (row and column, e.g., 1 2): \").split())\n",
    "        else:\n",
    "            player_row, player_col = computer_move(board, computer_symbol, player_symbol)\n",
    "\n",
    "        if board[player_row][player_col] == \" \":\n",
    "            board[player_row][player_col] = player_symbol\n",
    "        else:\n",
    "            print(\"Invalid move. Try again.\")\n",
    "            continue\n",
    "\n",
    "        print_board(board)\n",
    "\n",
    "        if check_win(board, player_symbol):\n",
    "            print(\"Congratulations! You win!\")\n",
    "            break\n",
    "        elif is_board_full(board):\n",
    "            print(\"It's a tie!\")\n",
    "            break\n",
    "\n",
    "        print(\"Computer's turn:\")\n",
    "        computer_row, computer_col = computer_move(board, computer_symbol, player_symbol)\n",
    "        board[computer_row][computer_col] = computer_symbol\n",
    "        print_board(board)\n",
    "\n",
    "        if check_win(board, computer_symbol):\n",
    "            print(\"Computer wins! Better luck next time.\")\n",
    "            break\n",
    "        elif is_board_full(board):\n",
    "            print(\"It's a tie!\")\n",
    "            break\n",
    "\n",
    "if __name__ == \"__main__\":\n",
    "    main()\n"
   ]
  },
  {
   "cell_type": "markdown",
   "id": "26e2330f-6cd7-4b9a-851c-b90994114b14",
   "metadata": {},
   "source": [
    "EXPLANATION:-\n",
    "\n",
    "Here's how this Tic-Tac-Toe game works:\n",
    "\n",
    "The player chooses their symbol (either \"X\" or \"O\").\n",
    "The computer automatically takes the other symbol.\n",
    "The game board is displayed, and players take turns entering their moves.\n",
    "The computer's moves are determined using a basic strategy: it tries to win if it can or block the player from winning.\n",
    "The game continues until there's a winner or a tie."
   ]
  },
  {
   "cell_type": "code",
   "execution_count": 1,
   "id": "3af18db9-6ac7-4311-a91f-4e23da569002",
   "metadata": {},
   "outputs": [
    {
     "name": "stdin",
     "output_type": "stream",
     "text": [
      "Enter the number of Fibonacci terms to generate:  4\n"
     ]
    },
    {
     "name": "stdout",
     "output_type": "stream",
     "text": [
      "Fibonacci Sequence: [0, 1, 1, 2]\n"
     ]
    }
   ],
   "source": [
    "# 36. Write a program that generates Fibonacci numbers up to a specified term using iterative methods.\n",
    "\n",
    "\n",
    "def generate_fibonacci(n):\n",
    "    fibonacci_sequence = [0, 1]\n",
    "    while len(fibonacci_sequence) < n:\n",
    "        next_value = fibonacci_sequence[-1] + fibonacci_sequence[-2]\n",
    "        fibonacci_sequence.append(next_value)\n",
    "    return fibonacci_sequence\n",
    "\n",
    "# Example usage\n",
    "n = int(input(\"Enter the number of Fibonacci terms to generate: \"))\n",
    "fibonacci_sequence = generate_fibonacci(n)\n",
    "print(\"Fibonacci Sequence:\", fibonacci_sequence)\n"
   ]
  },
  {
   "cell_type": "markdown",
   "id": "3a5501a3-8ef1-466b-8cb4-ba6a9f23abb3",
   "metadata": {},
   "source": [
    "EXPLANATION:-\n",
    "\n",
    "This program generates Fibonacci numbers up to a specified term using an iterative method:\n",
    "\n",
    "It defines a function generate_fibonacci(n) that takes an integer n as input and generates the Fibonacci sequence up to the nth term.\n",
    "The program prompts the user to enter the number of Fibonacci terms to generate.\n",
    "It then calls the generate_fibonacci function to calculate the Fibonacci sequence and prints it."
   ]
  },
  {
   "cell_type": "code",
   "execution_count": 3,
   "id": "4c8de439-8a01-4f03-a59c-956556fc96bc",
   "metadata": {},
   "outputs": [
    {
     "name": "stdin",
     "output_type": "stream",
     "text": [
      "Enter the term of the Fibonacci sequence to calculate:  45\n"
     ]
    },
    {
     "name": "stdout",
     "output_type": "stream",
     "text": [
      "The 45th Fibonacci term is 1134903170\n"
     ]
    }
   ],
   "source": [
    "# 37. Develop a program that calculates the nth term of the Fibonacci sequence using memoization.\n",
    "\n",
    "\n",
    "def fibonacci_memoization(n, memo={}):\n",
    "    if n in memo:\n",
    "        return memo[n]\n",
    "    if n <= 1:\n",
    "        return n\n",
    "    result = fibonacci_memoization(n - 1, memo) + fibonacci_memoization(n - 2, memo)\n",
    "    memo[n] = result\n",
    "    return result\n",
    "\n",
    "# Example usage\n",
    "n = int(input(\"Enter the term of the Fibonacci sequence to calculate: \"))\n",
    "result = fibonacci_memoization(n)\n",
    "print(f\"The {n}th Fibonacci term is {result}\")\n"
   ]
  },
  {
   "cell_type": "markdown",
   "id": "70e383c1-68da-47cd-a76d-9a912a921403",
   "metadata": {},
   "source": [
    "EXPLANATION:-\n",
    "\n",
    "This program generates the nth term of the Fibonacci sequence using memoization:\n",
    "\n",
    "It defines a function fibonacci_memoization(n, memo={}) that takes an integer n as input and uses memoization to efficiently calculate the nth Fibonacci term.\n",
    "The program prompts the user to enter the term of the Fibonacci sequence to calculate.\n",
    "It then calls the fibonacci_memoization function to compute and print the nth Fibonacci term."
   ]
  },
  {
   "cell_type": "code",
   "execution_count": 4,
   "id": "41878e10-e291-48d0-a4a2-f649a58529f3",
   "metadata": {},
   "outputs": [
    {
     "name": "stdin",
     "output_type": "stream",
     "text": [
      "Enter the year:  2008\n",
      "Enter the month (1-12):  7\n"
     ]
    },
    {
     "name": "stdout",
     "output_type": "stream",
     "text": [
      "Calendar for July 2008:\n",
      "     July 2008\n",
      "Mo Tu We Th Fr Sa Su\n",
      "    1  2  3  4  5  6\n",
      " 7  8  9 10 11 12 13\n",
      "14 15 16 17 18 19 20\n",
      "21 22 23 24 25 26 27\n",
      "28 29 30 31\n",
      "\n"
     ]
    }
   ],
   "source": [
    "# 38. Create a program that generates a calendar for a given month and year using conditional statements.\n",
    "\n",
    "\n",
    "import calendar\n",
    "\n",
    "year = int(input(\"Enter the year: \"))\n",
    "month = int(input(\"Enter the month (1-12): \"))\n",
    "\n",
    "cal = calendar.month(year, month)\n",
    "print(f\"Calendar for {calendar.month_name[month]} {year}:\")\n",
    "print(cal)\n"
   ]
  },
  {
   "cell_type": "markdown",
   "id": "da925dc1-06da-408d-a8f1-6414070324b0",
   "metadata": {},
   "source": [
    "EXPLANATION:-\n",
    "\n",
    "This program generates a calendar for a given month and year using the calendar module:\n",
    "\n",
    "The program prompts the user to enter the year and month (in numeric format, 1-12).\n",
    "It uses the calendar.month() function to generate the calendar for the specified month and year.\n",
    "Finally, it prints the calendar."
   ]
  },
  {
   "cell_type": "code",
   "execution_count": 5,
   "id": "7789d5b5-8fce-44a3-ba7a-eb5785e1016e",
   "metadata": {},
   "outputs": [
    {
     "name": "stdout",
     "output_type": "stream",
     "text": [
      "Your cards: [7, 10], current score: 17\n",
      "Computer's first card: 10\n"
     ]
    },
    {
     "name": "stdin",
     "output_type": "stream",
     "text": [
      "Type 'y' to get another card, 'n' to pass:  Y\n"
     ]
    },
    {
     "name": "stdout",
     "output_type": "stream",
     "text": [
      "Your cards: [7, 10, 4], current score: 21\n",
      "Computer's first card: 10\n"
     ]
    },
    {
     "name": "stdin",
     "output_type": "stream",
     "text": [
      "Type 'y' to get another card, 'n' to pass:  Y\n"
     ]
    },
    {
     "name": "stdout",
     "output_type": "stream",
     "text": [
      "Your cards: [7, 10, 4, 10], current score: 31\n",
      "Computer's first card: 10\n",
      "Your final hand: [7, 10, 4, 10], final score: 31\n",
      "Computer's final hand: [10, 2, 10], final score: 22\n",
      "You went over. You lose!\n"
     ]
    },
    {
     "name": "stdin",
     "output_type": "stream",
     "text": [
      "Do you want to play another round of Blackjack? Type 'y' or 'n':  N\n"
     ]
    }
   ],
   "source": [
    "# 39. Build a program that simulates a basic text-based blackjack game against the computer.\n",
    "\n",
    "\n",
    "import random\n",
    "\n",
    "def deal_card():\n",
    "    cards = [2, 3, 4, 5, 6, 7, 8, 9, 10, 10, 10, 10, 11] * 4\n",
    "    return random.choice(cards)\n",
    "\n",
    "def calculate_score(cards):\n",
    "    if sum(cards) == 21 and len(cards) == 2:\n",
    "        return 0  # Blackjack (a special case)\n",
    "    if 11 in cards and sum(cards) > 21:\n",
    "        cards.remove(11)\n",
    "        cards.append(1)\n",
    "    return sum(cards)\n",
    "\n",
    "def blackjack_game():\n",
    "    player_cards = [deal_card(), deal_card()]\n",
    "    computer_cards = [deal_card(), deal_card()]\n",
    "    game_over = False\n",
    "\n",
    "    while not game_over:\n",
    "        player_score = calculate_score(player_cards)\n",
    "        computer_score = calculate_score(computer_cards)\n",
    "\n",
    "        print(f\"Your cards: {player_cards}, current score: {player_score}\")\n",
    "        print(f\"Computer's first card: {computer_cards[0]}\")\n",
    "\n",
    "        if player_score == 0 or computer_score == 0 or player_score > 21:\n",
    "            game_over = True\n",
    "        else:\n",
    "            should_continue = input(\"Type 'y' to get another card, 'n' to pass: \").lower()\n",
    "            if should_continue == 'y':\n",
    "                player_cards.append(deal_card())\n",
    "            else:\n",
    "                game_over = True\n",
    "\n",
    "    while computer_score != 0 and computer_score < 17:\n",
    "        computer_cards.append(deal_card())\n",
    "        computer_score = calculate_score(computer_cards)\n",
    "\n",
    "    print(f\"Your final hand: {player_cards}, final score: {player_score}\")\n",
    "    print(f\"Computer's final hand: {computer_cards}, final score: {computer_score}\")\n",
    "    print(compare(player_score, computer_score))\n",
    "\n",
    "def compare(player_score, computer_score):\n",
    "    if player_score > 21 and computer_score > 21:\n",
    "        return \"You went over. You lose!\"\n",
    "    if player_score == computer_score:\n",
    "        return \"It's a draw!\"\n",
    "    elif computer_score == 0:\n",
    "        return \"Computer got a Blackjack. You lose!\"\n",
    "    elif player_score == 0:\n",
    "        return \"You got a Blackjack. You win!\"\n",
    "    elif player_score > 21:\n",
    "        return \"You went over. You lose!\"\n",
    "    elif computer_score > 21:\n",
    "        return \"Computer went over. You win!\"\n",
    "    elif player_score > computer_score:\n",
    "        return \"You win!\"\n",
    "    else:\n",
    "        return \"You lose!\"\n",
    "\n",
    "if __name__ == \"__main__\":\n",
    "    play_again = True\n",
    "    while play_again:\n",
    "        blackjack_game()\n",
    "        play_again = input(\"Do you want to play another round of Blackjack? Type 'y' or 'n': \").lower() == 'y'\n"
   ]
  },
  {
   "cell_type": "markdown",
   "id": "91283eaf-05b1-41d3-8312-83a102a656b3",
   "metadata": {},
   "source": [
    "EXPLANATION:-\n",
    "\n",
    "Here's how this text-based Blackjack game works:\n",
    "\n",
    "The game uses a standard deck of cards (with values 2-11) and four suits.\n",
    "You are dealt two initial cards, and the computer is dealt two cards with one face-up.\n",
    "You can choose to \"hit\" (get another card) or \"stand\" (pass) by typing 'y' or 'n' when prompted.\n",
    "The game calculates scores and checks for win/lose conditions.\n",
    "You can play multiple rounds of Blackjack if you choose to continue.\n"
   ]
  },
  {
   "cell_type": "code",
   "execution_count": 6,
   "id": "e58e6cc7-531a-4abc-8024-abeef69c30e3",
   "metadata": {},
   "outputs": [
    {
     "name": "stdin",
     "output_type": "stream",
     "text": [
      "Enter a number to find its prime factors:  47\n"
     ]
    },
    {
     "name": "stdout",
     "output_type": "stream",
     "text": [
      "Prime factors of 47: [47]\n"
     ]
    }
   ],
   "source": [
    "# 40. Write a program that generates the prime factors of a given number using trial division.\n",
    "\n",
    "\n",
    "def prime_factors(n):\n",
    "    factors = []\n",
    "    divisor = 2\n",
    "    while n > 1:\n",
    "        while n % divisor == 0:\n",
    "            factors.append(divisor)\n",
    "            n //= divisor\n",
    "        divisor += 1\n",
    "    return factors\n",
    "\n",
    "# Example usage\n",
    "num = int(input(\"Enter a number to find its prime factors: \"))\n",
    "factors = prime_factors(num)\n",
    "print(f\"Prime factors of {num}: {factors}\")\n"
   ]
  },
  {
   "cell_type": "markdown",
   "id": "52ce0032-2c1e-42be-923d-9b7c929ca525",
   "metadata": {},
   "source": [
    "EXPLANATION:-\n",
    "\n",
    "This program generates the prime factors of a given number using trial division:\n",
    "\n",
    "It defines a function prime_factors(n) that takes an integer n as input and returns a list of its prime factors.\n",
    "The program prompts the user to enter a number for which they want to find prime factors.\n",
    "It then calls the prime_factors function to compute and print the prime factors of the entered number."
   ]
  },
  {
   "cell_type": "code",
   "execution_count": null,
   "id": "d77361ca-30d7-40ba-a87a-bf8bb26a737c",
   "metadata": {},
   "outputs": [],
   "source": []
  }
 ],
 "metadata": {
  "kernelspec": {
   "display_name": "Python 3 (ipykernel)",
   "language": "python",
   "name": "python3"
  },
  "language_info": {
   "codemirror_mode": {
    "name": "ipython",
    "version": 3
   },
   "file_extension": ".py",
   "mimetype": "text/x-python",
   "name": "python",
   "nbconvert_exporter": "python",
   "pygments_lexer": "ipython3",
   "version": "3.10.12"
  }
 },
 "nbformat": 4,
 "nbformat_minor": 5
}
